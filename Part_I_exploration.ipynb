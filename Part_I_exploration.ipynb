{
 "cells": [
  {
   "cell_type": "markdown",
   "metadata": {},
   "source": [
    "# Part I - Loan Data from Prosper Exploration\n",
    "## by Agustin Barto"
   ]
  },
  {
   "cell_type": "code",
   "execution_count": 1,
   "metadata": {},
   "outputs": [],
   "source": [
    "from pathlib import Path\n",
    "from urllib import request\n",
    "from zipfile import ZipFile\n",
    "\n",
    "import numpy as np\n",
    "import pandas as pd\n",
    "import matplotlib.pyplot as plt\n",
    "import seaborn as sb\n",
    "from IPython.display import display, Markdown, HTML\n",
    "\n",
    "%matplotlib inline"
   ]
  },
  {
   "cell_type": "markdown",
   "metadata": {},
   "source": [
    "## Table of Contents\n",
    "\n",
    "* [Introduction](#introduction)\n",
    "* [Preliminary Wrangling](#preliminary-wrangling)\n",
    "    * [Data Dictionary](#data-dictionary)"
   ]
  },
  {
   "cell_type": "markdown",
   "metadata": {},
   "source": [
    "## Introduction<a class=\"anchor\" id=\"introduction\"></a>"
   ]
  },
  {
   "cell_type": "markdown",
   "metadata": {},
   "source": [
    "I've chosen the \"Loan Data from Prosper\" dataset as it strikes a good balance between size, complexity and richness. It has a lot of variables to chose from, both numerical and categorical and enough samples to provided meaningful results."
   ]
  },
  {
   "cell_type": "markdown",
   "metadata": {},
   "source": [
    "As we'll show in the following section, the data set contains quite a lot of columns to chose from. During the wrangling process we'll briefly explore the dataset to decide which columns are going to be the focus of the analysis. Whenever needed, the column definition will be expanded with external sources."
   ]
  },
  {
   "cell_type": "markdown",
   "metadata": {},
   "source": [
    "## Preliminary Wrangling<a class=\"anchor\" id=\"preliminary-wrangling\"></a>"
   ]
  },
  {
   "cell_type": "markdown",
   "metadata": {},
   "source": [
    "### Data dictionary<a class=\"anchor\" id=\"data-dictionary\"></a>"
   ]
  },
  {
   "cell_type": "markdown",
   "metadata": {},
   "source": [
    " The following table (converted to CSV from the original [Google sheet](https://docs.google.com/spreadsheets/d/1gDyi_L4UvIrLTEC6Wri5nbaMmkGmLQBk-Yx3z0XDEtI/edit#gid=0)) contains a brief description of each column:"
   ]
  },
  {
   "cell_type": "code",
   "execution_count": 2,
   "metadata": {},
   "outputs": [],
   "source": [
    "variable_definitions_df = pd.read_csv(\n",
    "    \"https://docs.google.com/spreadsheets/d/1gDyi_L4UvIrLTEC6Wri5nbaMmkGmLQBk-Yx3z0XDEtI/export?format=csv\",\n",
    ")"
   ]
  },
  {
   "cell_type": "code",
   "execution_count": 3,
   "metadata": {},
   "outputs": [
    {
     "data": {
      "text/html": [
       "<style type=\"text/css\">\n",
       "#T_682e8_row0_col0, #T_682e8_row0_col1, #T_682e8_row1_col0, #T_682e8_row1_col1, #T_682e8_row2_col0, #T_682e8_row2_col1, #T_682e8_row3_col0, #T_682e8_row3_col1, #T_682e8_row4_col0, #T_682e8_row4_col1, #T_682e8_row5_col0, #T_682e8_row5_col1, #T_682e8_row6_col0, #T_682e8_row6_col1, #T_682e8_row7_col0, #T_682e8_row7_col1, #T_682e8_row8_col0, #T_682e8_row8_col1, #T_682e8_row9_col0, #T_682e8_row9_col1, #T_682e8_row10_col0, #T_682e8_row10_col1, #T_682e8_row11_col0, #T_682e8_row11_col1, #T_682e8_row12_col0, #T_682e8_row12_col1, #T_682e8_row13_col0, #T_682e8_row13_col1, #T_682e8_row14_col0, #T_682e8_row14_col1, #T_682e8_row15_col0, #T_682e8_row15_col1, #T_682e8_row16_col0, #T_682e8_row16_col1, #T_682e8_row17_col0, #T_682e8_row17_col1, #T_682e8_row18_col0, #T_682e8_row18_col1, #T_682e8_row19_col0, #T_682e8_row19_col1, #T_682e8_row20_col0, #T_682e8_row20_col1, #T_682e8_row21_col0, #T_682e8_row21_col1, #T_682e8_row22_col0, #T_682e8_row22_col1, #T_682e8_row23_col0, #T_682e8_row23_col1, #T_682e8_row24_col0, #T_682e8_row24_col1, #T_682e8_row25_col0, #T_682e8_row25_col1, #T_682e8_row26_col0, #T_682e8_row26_col1, #T_682e8_row27_col0, #T_682e8_row27_col1, #T_682e8_row28_col0, #T_682e8_row28_col1, #T_682e8_row29_col0, #T_682e8_row29_col1, #T_682e8_row30_col0, #T_682e8_row30_col1, #T_682e8_row31_col0, #T_682e8_row31_col1, #T_682e8_row32_col0, #T_682e8_row32_col1, #T_682e8_row33_col0, #T_682e8_row33_col1, #T_682e8_row34_col0, #T_682e8_row34_col1, #T_682e8_row35_col0, #T_682e8_row35_col1, #T_682e8_row36_col0, #T_682e8_row36_col1, #T_682e8_row37_col0, #T_682e8_row37_col1, #T_682e8_row38_col0, #T_682e8_row38_col1, #T_682e8_row39_col0, #T_682e8_row39_col1, #T_682e8_row40_col0, #T_682e8_row40_col1, #T_682e8_row41_col0, #T_682e8_row41_col1, #T_682e8_row42_col0, #T_682e8_row42_col1, #T_682e8_row43_col0, #T_682e8_row43_col1, #T_682e8_row44_col0, #T_682e8_row44_col1, #T_682e8_row45_col0, #T_682e8_row45_col1, #T_682e8_row46_col0, #T_682e8_row46_col1, #T_682e8_row47_col0, #T_682e8_row47_col1, #T_682e8_row48_col0, #T_682e8_row48_col1, #T_682e8_row49_col0, #T_682e8_row49_col1, #T_682e8_row50_col0, #T_682e8_row50_col1, #T_682e8_row51_col0, #T_682e8_row51_col1, #T_682e8_row52_col0, #T_682e8_row52_col1, #T_682e8_row53_col0, #T_682e8_row53_col1, #T_682e8_row54_col0, #T_682e8_row54_col1, #T_682e8_row55_col0, #T_682e8_row55_col1, #T_682e8_row56_col0, #T_682e8_row56_col1, #T_682e8_row57_col0, #T_682e8_row57_col1, #T_682e8_row58_col0, #T_682e8_row58_col1, #T_682e8_row59_col0, #T_682e8_row59_col1, #T_682e8_row60_col0, #T_682e8_row60_col1, #T_682e8_row61_col0, #T_682e8_row61_col1, #T_682e8_row62_col0, #T_682e8_row62_col1, #T_682e8_row63_col0, #T_682e8_row63_col1, #T_682e8_row64_col0, #T_682e8_row64_col1, #T_682e8_row65_col0, #T_682e8_row65_col1, #T_682e8_row66_col0, #T_682e8_row66_col1, #T_682e8_row67_col0, #T_682e8_row67_col1, #T_682e8_row68_col0, #T_682e8_row68_col1, #T_682e8_row69_col0, #T_682e8_row69_col1, #T_682e8_row70_col0, #T_682e8_row70_col1, #T_682e8_row71_col0, #T_682e8_row71_col1, #T_682e8_row72_col0, #T_682e8_row72_col1, #T_682e8_row73_col0, #T_682e8_row73_col1, #T_682e8_row74_col0, #T_682e8_row74_col1, #T_682e8_row75_col0, #T_682e8_row75_col1, #T_682e8_row76_col0, #T_682e8_row76_col1, #T_682e8_row77_col0, #T_682e8_row77_col1, #T_682e8_row78_col0, #T_682e8_row78_col1, #T_682e8_row79_col0, #T_682e8_row79_col1, #T_682e8_row80_col0, #T_682e8_row80_col1 {\n",
       "  text-align: left;\n",
       "}\n",
       "</style>\n",
       "<table id=\"T_682e8\">\n",
       "  <thead>\n",
       "    <tr>\n",
       "      <th id=\"T_682e8_level0_col0\" class=\"col_heading level0 col0\" >Variable</th>\n",
       "      <th id=\"T_682e8_level0_col1\" class=\"col_heading level0 col1\" >Description</th>\n",
       "    </tr>\n",
       "  </thead>\n",
       "  <tbody>\n",
       "    <tr>\n",
       "      <td id=\"T_682e8_row0_col0\" class=\"data row0 col0\" >ListingKey</td>\n",
       "      <td id=\"T_682e8_row0_col1\" class=\"data row0 col1\" >Unique key for each listing, same value as the 'key' used in the listing object in the API.</td>\n",
       "    </tr>\n",
       "    <tr>\n",
       "      <td id=\"T_682e8_row1_col0\" class=\"data row1 col0\" >ListingNumber</td>\n",
       "      <td id=\"T_682e8_row1_col1\" class=\"data row1 col1\" >The number that uniquely identifies the listing to the public as displayed on the website.</td>\n",
       "    </tr>\n",
       "    <tr>\n",
       "      <td id=\"T_682e8_row2_col0\" class=\"data row2 col0\" >ListingCreationDate</td>\n",
       "      <td id=\"T_682e8_row2_col1\" class=\"data row2 col1\" >The date the listing was created.</td>\n",
       "    </tr>\n",
       "    <tr>\n",
       "      <td id=\"T_682e8_row3_col0\" class=\"data row3 col0\" >CreditGrade</td>\n",
       "      <td id=\"T_682e8_row3_col1\" class=\"data row3 col1\" >The Credit rating that was assigned at the time the listing went live. Applicable for listings pre-2009 period and will only be populated for those listings.</td>\n",
       "    </tr>\n",
       "    <tr>\n",
       "      <td id=\"T_682e8_row4_col0\" class=\"data row4 col0\" >Term</td>\n",
       "      <td id=\"T_682e8_row4_col1\" class=\"data row4 col1\" >The length of the loan expressed in months.</td>\n",
       "    </tr>\n",
       "    <tr>\n",
       "      <td id=\"T_682e8_row5_col0\" class=\"data row5 col0\" >LoanStatus</td>\n",
       "      <td id=\"T_682e8_row5_col1\" class=\"data row5 col1\" >The current status of the loan: Cancelled,  Chargedoff, Completed, Current, Defaulted, FinalPaymentInProgress, PastDue. The PastDue status will be accompanied by a delinquency bucket.</td>\n",
       "    </tr>\n",
       "    <tr>\n",
       "      <td id=\"T_682e8_row6_col0\" class=\"data row6 col0\" >ClosedDate</td>\n",
       "      <td id=\"T_682e8_row6_col1\" class=\"data row6 col1\" >Closed date is applicable for Cancelled, Completed, Chargedoff and Defaulted loan statuses. </td>\n",
       "    </tr>\n",
       "    <tr>\n",
       "      <td id=\"T_682e8_row7_col0\" class=\"data row7 col0\" >BorrowerAPR</td>\n",
       "      <td id=\"T_682e8_row7_col1\" class=\"data row7 col1\" >The Borrower's Annual Percentage Rate (APR) for the loan.</td>\n",
       "    </tr>\n",
       "    <tr>\n",
       "      <td id=\"T_682e8_row8_col0\" class=\"data row8 col0\" >BorrowerRate</td>\n",
       "      <td id=\"T_682e8_row8_col1\" class=\"data row8 col1\" >The Borrower's interest rate for this loan. </td>\n",
       "    </tr>\n",
       "    <tr>\n",
       "      <td id=\"T_682e8_row9_col0\" class=\"data row9 col0\" >LenderYield</td>\n",
       "      <td id=\"T_682e8_row9_col1\" class=\"data row9 col1\" >The Lender yield on the loan. Lender yield is equal to the interest rate on the loan less the servicing fee.</td>\n",
       "    </tr>\n",
       "    <tr>\n",
       "      <td id=\"T_682e8_row10_col0\" class=\"data row10 col0\" >EstimatedEffectiveYield</td>\n",
       "      <td id=\"T_682e8_row10_col1\" class=\"data row10 col1\" >Effective yield is equal to the borrower interest rate (i) minus the servicing fee rate, (ii) minus estimated uncollected interest on charge-offs, (iii) plus estimated collected late fees.  Applicable for loans originated after July 2009.</td>\n",
       "    </tr>\n",
       "    <tr>\n",
       "      <td id=\"T_682e8_row11_col0\" class=\"data row11 col0\" >EstimatedLoss</td>\n",
       "      <td id=\"T_682e8_row11_col1\" class=\"data row11 col1\" >Estimated loss is the estimated principal loss on charge-offs. Applicable for loans originated after July 2009.</td>\n",
       "    </tr>\n",
       "    <tr>\n",
       "      <td id=\"T_682e8_row12_col0\" class=\"data row12 col0\" >EstimatedReturn</td>\n",
       "      <td id=\"T_682e8_row12_col1\" class=\"data row12 col1\" >The estimated return assigned to the listing at the time it was created. Estimated return is the difference between the Estimated Effective Yield and the Estimated Loss Rate. Applicable for loans originated after July 2009.</td>\n",
       "    </tr>\n",
       "    <tr>\n",
       "      <td id=\"T_682e8_row13_col0\" class=\"data row13 col0\" >ProsperRating (numeric)</td>\n",
       "      <td id=\"T_682e8_row13_col1\" class=\"data row13 col1\" >The  Prosper Rating assigned at the time the listing was created: 0 - N/A, 1 - HR, 2 - E, 3 - D, 4 - C, 5 - B, 6 - A, 7 - AA.  Applicable for loans originated after July 2009.</td>\n",
       "    </tr>\n",
       "    <tr>\n",
       "      <td id=\"T_682e8_row14_col0\" class=\"data row14 col0\" >ProsperRating (Alpha)</td>\n",
       "      <td id=\"T_682e8_row14_col1\" class=\"data row14 col1\" >The Prosper Rating assigned at the time the listing was created between AA - HR.  Applicable for loans originated after July 2009.</td>\n",
       "    </tr>\n",
       "    <tr>\n",
       "      <td id=\"T_682e8_row15_col0\" class=\"data row15 col0\" >ProsperScore</td>\n",
       "      <td id=\"T_682e8_row15_col1\" class=\"data row15 col1\" >A custom risk score built using historical Prosper data. The score ranges from 1-10, with 10 being the best, or lowest risk score.  Applicable for loans originated after July 2009.</td>\n",
       "    </tr>\n",
       "    <tr>\n",
       "      <td id=\"T_682e8_row16_col0\" class=\"data row16 col0\" >ListingCategory</td>\n",
       "      <td id=\"T_682e8_row16_col1\" class=\"data row16 col1\" >The category of the listing that the borrower selected when posting their listing: 0 - Not Available, 1 - Debt Consolidation, 2 - Home Improvement, 3 - Business, 4 - Personal Loan, 5 - Student Use, 6 - Auto, 7- Other, 8 - Baby&Adoption, 9 - Boat, 10 - Cosmetic Procedure, 11 - Engagement Ring, 12 - Green Loans, 13 - Household Expenses, 14 - Large Purchases, 15 - Medical/Dental, 16 - Motorcycle, 17 - RV, 18 - Taxes, 19 - Vacation, 20 - Wedding Loans</td>\n",
       "    </tr>\n",
       "    <tr>\n",
       "      <td id=\"T_682e8_row17_col0\" class=\"data row17 col0\" >BorrowerState</td>\n",
       "      <td id=\"T_682e8_row17_col1\" class=\"data row17 col1\" >The two letter abbreviation of the state of the address of the borrower at the time the Listing was created.</td>\n",
       "    </tr>\n",
       "    <tr>\n",
       "      <td id=\"T_682e8_row18_col0\" class=\"data row18 col0\" >Occupation</td>\n",
       "      <td id=\"T_682e8_row18_col1\" class=\"data row18 col1\" >The Occupation selected by the Borrower at the time they created the listing.</td>\n",
       "    </tr>\n",
       "    <tr>\n",
       "      <td id=\"T_682e8_row19_col0\" class=\"data row19 col0\" >EmploymentStatus</td>\n",
       "      <td id=\"T_682e8_row19_col1\" class=\"data row19 col1\" >The employment status of the borrower at the time they posted the listing.</td>\n",
       "    </tr>\n",
       "    <tr>\n",
       "      <td id=\"T_682e8_row20_col0\" class=\"data row20 col0\" >EmploymentStatusDuration</td>\n",
       "      <td id=\"T_682e8_row20_col1\" class=\"data row20 col1\" >The length in months of the employment status at the time the listing was created.</td>\n",
       "    </tr>\n",
       "    <tr>\n",
       "      <td id=\"T_682e8_row21_col0\" class=\"data row21 col0\" >IsBorrowerHomeowner</td>\n",
       "      <td id=\"T_682e8_row21_col1\" class=\"data row21 col1\" >A Borrower will be classified as a homowner if they have a mortgage on their credit profile or provide documentation confirming they are a homeowner.</td>\n",
       "    </tr>\n",
       "    <tr>\n",
       "      <td id=\"T_682e8_row22_col0\" class=\"data row22 col0\" >CurrentlyInGroup</td>\n",
       "      <td id=\"T_682e8_row22_col1\" class=\"data row22 col1\" >Specifies whether or not the Borrower was in a group at the time the listing was created.</td>\n",
       "    </tr>\n",
       "    <tr>\n",
       "      <td id=\"T_682e8_row23_col0\" class=\"data row23 col0\" >GroupKey</td>\n",
       "      <td id=\"T_682e8_row23_col1\" class=\"data row23 col1\" >The Key of the group in which the Borrower is a member of. Value will be null if the borrower does not have a group affiliation.</td>\n",
       "    </tr>\n",
       "    <tr>\n",
       "      <td id=\"T_682e8_row24_col0\" class=\"data row24 col0\" >DateCreditPulled</td>\n",
       "      <td id=\"T_682e8_row24_col1\" class=\"data row24 col1\" >The date the credit profile was pulled. </td>\n",
       "    </tr>\n",
       "    <tr>\n",
       "      <td id=\"T_682e8_row25_col0\" class=\"data row25 col0\" >CreditScoreRangeLower</td>\n",
       "      <td id=\"T_682e8_row25_col1\" class=\"data row25 col1\" >The lower value representing the range of the borrower's credit score as provided by a consumer credit rating agency.</td>\n",
       "    </tr>\n",
       "    <tr>\n",
       "      <td id=\"T_682e8_row26_col0\" class=\"data row26 col0\" >CreditScoreRangeUpper</td>\n",
       "      <td id=\"T_682e8_row26_col1\" class=\"data row26 col1\" >The upper value representing the range of the borrower's credit score as provided by a consumer credit rating agency. </td>\n",
       "    </tr>\n",
       "    <tr>\n",
       "      <td id=\"T_682e8_row27_col0\" class=\"data row27 col0\" >FirstRecordedCreditLine</td>\n",
       "      <td id=\"T_682e8_row27_col1\" class=\"data row27 col1\" >The date the first credit line was opened.</td>\n",
       "    </tr>\n",
       "    <tr>\n",
       "      <td id=\"T_682e8_row28_col0\" class=\"data row28 col0\" >CurrentCreditLines</td>\n",
       "      <td id=\"T_682e8_row28_col1\" class=\"data row28 col1\" >Number of current credit lines at the time the credit profile was pulled.</td>\n",
       "    </tr>\n",
       "    <tr>\n",
       "      <td id=\"T_682e8_row29_col0\" class=\"data row29 col0\" >OpenCreditLines</td>\n",
       "      <td id=\"T_682e8_row29_col1\" class=\"data row29 col1\" >Number of open credit lines at the time the credit profile was pulled.</td>\n",
       "    </tr>\n",
       "    <tr>\n",
       "      <td id=\"T_682e8_row30_col0\" class=\"data row30 col0\" >TotalCreditLinespast7years</td>\n",
       "      <td id=\"T_682e8_row30_col1\" class=\"data row30 col1\" >Number of credit lines in the past seven years at the time the credit profile was pulled.</td>\n",
       "    </tr>\n",
       "    <tr>\n",
       "      <td id=\"T_682e8_row31_col0\" class=\"data row31 col0\" >OpenRevolvingAccounts</td>\n",
       "      <td id=\"T_682e8_row31_col1\" class=\"data row31 col1\" >Number of open revolving accounts at the time the credit profile was pulled.</td>\n",
       "    </tr>\n",
       "    <tr>\n",
       "      <td id=\"T_682e8_row32_col0\" class=\"data row32 col0\" >OpenRevolvingMonthlyPayment</td>\n",
       "      <td id=\"T_682e8_row32_col1\" class=\"data row32 col1\" >Monthly payment on revolving accounts at the time the credit profile was pulled.</td>\n",
       "    </tr>\n",
       "    <tr>\n",
       "      <td id=\"T_682e8_row33_col0\" class=\"data row33 col0\" >InquiriesLast6Months</td>\n",
       "      <td id=\"T_682e8_row33_col1\" class=\"data row33 col1\" >Number of inquiries in the past six months at the time the credit profile was pulled.</td>\n",
       "    </tr>\n",
       "    <tr>\n",
       "      <td id=\"T_682e8_row34_col0\" class=\"data row34 col0\" >TotalInquiries</td>\n",
       "      <td id=\"T_682e8_row34_col1\" class=\"data row34 col1\" >Total number of inquiries at the time the credit profile was pulled.</td>\n",
       "    </tr>\n",
       "    <tr>\n",
       "      <td id=\"T_682e8_row35_col0\" class=\"data row35 col0\" >CurrentDelinquencies</td>\n",
       "      <td id=\"T_682e8_row35_col1\" class=\"data row35 col1\" >Number of accounts delinquent at the time the credit profile was pulled.</td>\n",
       "    </tr>\n",
       "    <tr>\n",
       "      <td id=\"T_682e8_row36_col0\" class=\"data row36 col0\" >AmountDelinquent</td>\n",
       "      <td id=\"T_682e8_row36_col1\" class=\"data row36 col1\" >Dollars delinquent at the time the credit profile was pulled.</td>\n",
       "    </tr>\n",
       "    <tr>\n",
       "      <td id=\"T_682e8_row37_col0\" class=\"data row37 col0\" >DelinquenciesLast7Years</td>\n",
       "      <td id=\"T_682e8_row37_col1\" class=\"data row37 col1\" >Number of delinquencies in the past 7 years at the time the credit profile was pulled.</td>\n",
       "    </tr>\n",
       "    <tr>\n",
       "      <td id=\"T_682e8_row38_col0\" class=\"data row38 col0\" >PublicRecordsLast10Years</td>\n",
       "      <td id=\"T_682e8_row38_col1\" class=\"data row38 col1\" >Number of public records in the past 10 years at the time the credit profile was pulled.</td>\n",
       "    </tr>\n",
       "    <tr>\n",
       "      <td id=\"T_682e8_row39_col0\" class=\"data row39 col0\" >PublicRecordsLast12Months</td>\n",
       "      <td id=\"T_682e8_row39_col1\" class=\"data row39 col1\" >Number of public records in the past 12 months at the time the credit profile was pulled.</td>\n",
       "    </tr>\n",
       "    <tr>\n",
       "      <td id=\"T_682e8_row40_col0\" class=\"data row40 col0\" >RevolvingCreditBalance</td>\n",
       "      <td id=\"T_682e8_row40_col1\" class=\"data row40 col1\" >Dollars of revolving credit at the time the credit profile was pulled.</td>\n",
       "    </tr>\n",
       "    <tr>\n",
       "      <td id=\"T_682e8_row41_col0\" class=\"data row41 col0\" >BankcardUtilization</td>\n",
       "      <td id=\"T_682e8_row41_col1\" class=\"data row41 col1\" >The percentage of available revolving credit that is utilized at the time the credit profile was pulled.</td>\n",
       "    </tr>\n",
       "    <tr>\n",
       "      <td id=\"T_682e8_row42_col0\" class=\"data row42 col0\" >AvailableBankcardCredit</td>\n",
       "      <td id=\"T_682e8_row42_col1\" class=\"data row42 col1\" >The total available credit via bank card at the time the credit profile was pulled.</td>\n",
       "    </tr>\n",
       "    <tr>\n",
       "      <td id=\"T_682e8_row43_col0\" class=\"data row43 col0\" >TotalTrades</td>\n",
       "      <td id=\"T_682e8_row43_col1\" class=\"data row43 col1\" >Number of trade lines ever opened at the time the credit profile was pulled.</td>\n",
       "    </tr>\n",
       "    <tr>\n",
       "      <td id=\"T_682e8_row44_col0\" class=\"data row44 col0\" >TradesNeverDelinquent</td>\n",
       "      <td id=\"T_682e8_row44_col1\" class=\"data row44 col1\" >Number of trades that have never been delinquent at the time the credit profile was pulled.</td>\n",
       "    </tr>\n",
       "    <tr>\n",
       "      <td id=\"T_682e8_row45_col0\" class=\"data row45 col0\" >TradesOpenedLast6Months</td>\n",
       "      <td id=\"T_682e8_row45_col1\" class=\"data row45 col1\" >Number of trades opened in the last 6 months at the time the credit profile was pulled.</td>\n",
       "    </tr>\n",
       "    <tr>\n",
       "      <td id=\"T_682e8_row46_col0\" class=\"data row46 col0\" >DebtToIncomeRatio</td>\n",
       "      <td id=\"T_682e8_row46_col1\" class=\"data row46 col1\" >The debt to income ratio of the borrower at the time the credit profile was pulled. This value is Null if the debt to income ratio is not available. This value is capped at 10.01 (any debt to income ratio larger than 1000% will be returned as 1001%).</td>\n",
       "    </tr>\n",
       "    <tr>\n",
       "      <td id=\"T_682e8_row47_col0\" class=\"data row47 col0\" >IncomeRange</td>\n",
       "      <td id=\"T_682e8_row47_col1\" class=\"data row47 col1\" >The income range of the borrower at the time the listing was created.</td>\n",
       "    </tr>\n",
       "    <tr>\n",
       "      <td id=\"T_682e8_row48_col0\" class=\"data row48 col0\" >IncomeVerifiable</td>\n",
       "      <td id=\"T_682e8_row48_col1\" class=\"data row48 col1\" >The borrower indicated they have the required documentation to support their income.</td>\n",
       "    </tr>\n",
       "    <tr>\n",
       "      <td id=\"T_682e8_row49_col0\" class=\"data row49 col0\" >StatedMonthlyIncome</td>\n",
       "      <td id=\"T_682e8_row49_col1\" class=\"data row49 col1\" >The monthly income the borrower stated at the time the listing was created.</td>\n",
       "    </tr>\n",
       "    <tr>\n",
       "      <td id=\"T_682e8_row50_col0\" class=\"data row50 col0\" >LoanKey</td>\n",
       "      <td id=\"T_682e8_row50_col1\" class=\"data row50 col1\" >Unique key for each loan. This is the same key that is used in the API. </td>\n",
       "    </tr>\n",
       "    <tr>\n",
       "      <td id=\"T_682e8_row51_col0\" class=\"data row51 col0\" >TotalProsperLoans</td>\n",
       "      <td id=\"T_682e8_row51_col1\" class=\"data row51 col1\" >Number of Prosper loans the borrower at the time they created this listing. This value will be null if the borrower had no prior loans. </td>\n",
       "    </tr>\n",
       "    <tr>\n",
       "      <td id=\"T_682e8_row52_col0\" class=\"data row52 col0\" >TotalProsperPaymentsBilled</td>\n",
       "      <td id=\"T_682e8_row52_col1\" class=\"data row52 col1\" >Number of on time payments the borrower made on Prosper loans at the time they created this listing. This value will be null if the borrower had no prior loans.</td>\n",
       "    </tr>\n",
       "    <tr>\n",
       "      <td id=\"T_682e8_row53_col0\" class=\"data row53 col0\" >OnTimeProsperPayments</td>\n",
       "      <td id=\"T_682e8_row53_col1\" class=\"data row53 col1\" >Number of on time payments the borrower had made on Prosper loans at the time they created this listing. This value will be null if the borrower has no prior loans.</td>\n",
       "    </tr>\n",
       "    <tr>\n",
       "      <td id=\"T_682e8_row54_col0\" class=\"data row54 col0\" >ProsperPaymentsLessThanOneMonthLate</td>\n",
       "      <td id=\"T_682e8_row54_col1\" class=\"data row54 col1\" >Number of payments the borrower made on Prosper loans that were less than one month late at the time they created this listing. This value will be null if the borrower had no prior loans. </td>\n",
       "    </tr>\n",
       "    <tr>\n",
       "      <td id=\"T_682e8_row55_col0\" class=\"data row55 col0\" >ProsperPaymentsOneMonthPlusLate</td>\n",
       "      <td id=\"T_682e8_row55_col1\" class=\"data row55 col1\" >Number of payments the borrower made on Prosper loans that were greater than one month late at the time they created this listing. This value will be null if the borrower had no prior loans.</td>\n",
       "    </tr>\n",
       "    <tr>\n",
       "      <td id=\"T_682e8_row56_col0\" class=\"data row56 col0\" >ProsperPrincipalBorrowed</td>\n",
       "      <td id=\"T_682e8_row56_col1\" class=\"data row56 col1\" >Total principal borrowed on Prosper loans at the time the listing was created. This value will be null if the borrower had no prior loans.</td>\n",
       "    </tr>\n",
       "    <tr>\n",
       "      <td id=\"T_682e8_row57_col0\" class=\"data row57 col0\" >ProsperPrincipalOutstanding</td>\n",
       "      <td id=\"T_682e8_row57_col1\" class=\"data row57 col1\" >Principal outstanding on Prosper loans at the time the listing was created. This value will be null if the borrower had no prior loans.</td>\n",
       "    </tr>\n",
       "    <tr>\n",
       "      <td id=\"T_682e8_row58_col0\" class=\"data row58 col0\" >ScorexChangeAtTimeOfListing</td>\n",
       "      <td id=\"T_682e8_row58_col1\" class=\"data row58 col1\" >Borrower's credit score change at the time the credit profile was pulled. This will be the change relative to the borrower's last Prosper loan. This value will be null if the borrower had no prior loans.</td>\n",
       "    </tr>\n",
       "    <tr>\n",
       "      <td id=\"T_682e8_row59_col0\" class=\"data row59 col0\" >LoanCurrentDaysDelinquent</td>\n",
       "      <td id=\"T_682e8_row59_col1\" class=\"data row59 col1\" >The number of days delinquent. </td>\n",
       "    </tr>\n",
       "    <tr>\n",
       "      <td id=\"T_682e8_row60_col0\" class=\"data row60 col0\" >LoanFirstDefaultedCycleNumber</td>\n",
       "      <td id=\"T_682e8_row60_col1\" class=\"data row60 col1\" >The cycle the loan was charged off. If the loan has not charged off the value will be null. </td>\n",
       "    </tr>\n",
       "    <tr>\n",
       "      <td id=\"T_682e8_row61_col0\" class=\"data row61 col0\" >LoanMonthsSinceOrigination</td>\n",
       "      <td id=\"T_682e8_row61_col1\" class=\"data row61 col1\" >Number of months since the loan originated.</td>\n",
       "    </tr>\n",
       "    <tr>\n",
       "      <td id=\"T_682e8_row62_col0\" class=\"data row62 col0\" >LoanNumber</td>\n",
       "      <td id=\"T_682e8_row62_col1\" class=\"data row62 col1\" >Unique numeric value associated with the loan.</td>\n",
       "    </tr>\n",
       "    <tr>\n",
       "      <td id=\"T_682e8_row63_col0\" class=\"data row63 col0\" >LoanOriginalAmount</td>\n",
       "      <td id=\"T_682e8_row63_col1\" class=\"data row63 col1\" >The origination amount of the loan.</td>\n",
       "    </tr>\n",
       "    <tr>\n",
       "      <td id=\"T_682e8_row64_col0\" class=\"data row64 col0\" >LoanOriginationDate</td>\n",
       "      <td id=\"T_682e8_row64_col1\" class=\"data row64 col1\" >The date the loan was originated.</td>\n",
       "    </tr>\n",
       "    <tr>\n",
       "      <td id=\"T_682e8_row65_col0\" class=\"data row65 col0\" >LoanOriginationQuarter</td>\n",
       "      <td id=\"T_682e8_row65_col1\" class=\"data row65 col1\" >The quarter in which the loan was originated.</td>\n",
       "    </tr>\n",
       "    <tr>\n",
       "      <td id=\"T_682e8_row66_col0\" class=\"data row66 col0\" >MemberKey</td>\n",
       "      <td id=\"T_682e8_row66_col1\" class=\"data row66 col1\" >The unique key that is associated with the borrower. This is the same identifier that is used in the API member object. </td>\n",
       "    </tr>\n",
       "    <tr>\n",
       "      <td id=\"T_682e8_row67_col0\" class=\"data row67 col0\" >MonthlyLoanPayment</td>\n",
       "      <td id=\"T_682e8_row67_col1\" class=\"data row67 col1\" >The scheduled monthly loan payment.</td>\n",
       "    </tr>\n",
       "    <tr>\n",
       "      <td id=\"T_682e8_row68_col0\" class=\"data row68 col0\" >LP_CustomerPayments</td>\n",
       "      <td id=\"T_682e8_row68_col1\" class=\"data row68 col1\" >Pre charge-off cumulative gross payments made by the borrower on the loan. If the loan has charged off, this value will exclude any recoveries.</td>\n",
       "    </tr>\n",
       "    <tr>\n",
       "      <td id=\"T_682e8_row69_col0\" class=\"data row69 col0\" >LP_CustomerPrincipalPayments</td>\n",
       "      <td id=\"T_682e8_row69_col1\" class=\"data row69 col1\" >Pre charge-off cumulative principal payments made by the borrower on the loan. If the loan has charged off, this value will exclude any recoveries.</td>\n",
       "    </tr>\n",
       "    <tr>\n",
       "      <td id=\"T_682e8_row70_col0\" class=\"data row70 col0\" >LP_InterestandFees</td>\n",
       "      <td id=\"T_682e8_row70_col1\" class=\"data row70 col1\" >Pre charge-off cumulative interest and fees paid by the borrower. If the loan has charged off, this value will exclude any recoveries.</td>\n",
       "    </tr>\n",
       "    <tr>\n",
       "      <td id=\"T_682e8_row71_col0\" class=\"data row71 col0\" >LP_ServiceFees</td>\n",
       "      <td id=\"T_682e8_row71_col1\" class=\"data row71 col1\" >Cumulative service fees paid by the investors who have invested in the loan. </td>\n",
       "    </tr>\n",
       "    <tr>\n",
       "      <td id=\"T_682e8_row72_col0\" class=\"data row72 col0\" >LP_CollectionFees</td>\n",
       "      <td id=\"T_682e8_row72_col1\" class=\"data row72 col1\" >Cumulative collection fees paid by the investors who have invested in the loan.</td>\n",
       "    </tr>\n",
       "    <tr>\n",
       "      <td id=\"T_682e8_row73_col0\" class=\"data row73 col0\" >LP_GrossPrincipalLoss</td>\n",
       "      <td id=\"T_682e8_row73_col1\" class=\"data row73 col1\" >The gross charged off amount of the loan.</td>\n",
       "    </tr>\n",
       "    <tr>\n",
       "      <td id=\"T_682e8_row74_col0\" class=\"data row74 col0\" >LP_NetPrincipalLoss</td>\n",
       "      <td id=\"T_682e8_row74_col1\" class=\"data row74 col1\" >The principal that remains uncollected after any recoveries.</td>\n",
       "    </tr>\n",
       "    <tr>\n",
       "      <td id=\"T_682e8_row75_col0\" class=\"data row75 col0\" >LP_NonPrincipalRecoverypayments</td>\n",
       "      <td id=\"T_682e8_row75_col1\" class=\"data row75 col1\" >The interest and fee component of any recovery payments. The current payment policy applies payments in the following order: Fees, interest, principal.</td>\n",
       "    </tr>\n",
       "    <tr>\n",
       "      <td id=\"T_682e8_row76_col0\" class=\"data row76 col0\" >PercentFunded</td>\n",
       "      <td id=\"T_682e8_row76_col1\" class=\"data row76 col1\" >Percent the listing was funded.</td>\n",
       "    </tr>\n",
       "    <tr>\n",
       "      <td id=\"T_682e8_row77_col0\" class=\"data row77 col0\" >Recommendations</td>\n",
       "      <td id=\"T_682e8_row77_col1\" class=\"data row77 col1\" >Number of recommendations the borrower had at the time the listing was created.</td>\n",
       "    </tr>\n",
       "    <tr>\n",
       "      <td id=\"T_682e8_row78_col0\" class=\"data row78 col0\" >InvestmentFromFriendsCount</td>\n",
       "      <td id=\"T_682e8_row78_col1\" class=\"data row78 col1\" >Number of friends that made an investment in the loan.</td>\n",
       "    </tr>\n",
       "    <tr>\n",
       "      <td id=\"T_682e8_row79_col0\" class=\"data row79 col0\" >InvestmentFromFriendsAmount</td>\n",
       "      <td id=\"T_682e8_row79_col1\" class=\"data row79 col1\" >Dollar amount of investments that were made by friends.</td>\n",
       "    </tr>\n",
       "    <tr>\n",
       "      <td id=\"T_682e8_row80_col0\" class=\"data row80 col0\" >Investors</td>\n",
       "      <td id=\"T_682e8_row80_col1\" class=\"data row80 col1\" >The number of investors that funded the loan.</td>\n",
       "    </tr>\n",
       "  </tbody>\n",
       "</table>\n"
      ],
      "text/plain": [
       "<IPython.core.display.HTML object>"
      ]
     },
     "metadata": {},
     "output_type": "display_data"
    }
   ],
   "source": [
    "styler = variable_definitions_df\\\n",
    "    .style\\\n",
    "    .set_properties(\n",
    "        **{'text-align': 'left'}\n",
    "    )\\\n",
    "    .hide(axis=\"index\")\n",
    "display(HTML(styler.to_html()))"
   ]
  },
  {
   "cell_type": "markdown",
   "metadata": {},
   "source": [
    "### Downloading the dataset"
   ]
  },
  {
   "cell_type": "markdown",
   "metadata": {},
   "source": [
    "We assume the dataset has been included with the submission, but in case it had to be removed due to size constraints, the following cell checks if the data is available and downloads it if it is not."
   ]
  },
  {
   "cell_type": "code",
   "execution_count": 4,
   "metadata": {},
   "outputs": [],
   "source": [
    "prosper_load_data_csv_zip = Path(\"./prosperLoanData.csv.zip\")"
   ]
  },
  {
   "cell_type": "code",
   "execution_count": 5,
   "metadata": {},
   "outputs": [],
   "source": [
    "def download_compress_dataset():\n",
    "    try:\n",
    "        with request.urlopen(\"https://s3.amazonaws.com/udacity-hosted-downloads/ud651/prosperLoanData.csv\") as f:\n",
    "            with ZipFile(prosper_load_data_csv_zip, \"w\") as zf:\n",
    "                with zf.open(\"prosperLoanData.csv\", \"w\") as g:\n",
    "                    g.write(f.read())\n",
    "    except Exception as e:\n",
    "        display(Markdown(f\"> <span style='color: red;'>**Exception raised retrieving data set:**</span> {e}\"))\n",
    "        prosper_load_data_csv_zip.unlink()"
   ]
  },
  {
   "cell_type": "code",
   "execution_count": 6,
   "metadata": {},
   "outputs": [],
   "source": [
    "if not prosper_load_data_csv_zip.exists():\n",
    "    download_compress_dataset()"
   ]
  },
  {
   "cell_type": "markdown",
   "metadata": {},
   "source": [
    "### Loading the dataset"
   ]
  },
  {
   "cell_type": "markdown",
   "metadata": {},
   "source": [
    "Once the dataset has been downloaded (and compressed), pandas can just read the CSV file straight out of the zip file:"
   ]
  },
  {
   "cell_type": "code",
   "execution_count": 7,
   "metadata": {},
   "outputs": [],
   "source": [
    "prosper_load_data_df = pd.read_csv(prosper_load_data_csv_zip)"
   ]
  },
  {
   "cell_type": "markdown",
   "metadata": {},
   "source": [
    "### What is the structure of your dataset?"
   ]
  },
  {
   "cell_type": "code",
   "execution_count": 8,
   "metadata": {},
   "outputs": [
    {
     "data": {
      "text/html": [
       "<div>\n",
       "<style scoped>\n",
       "    .dataframe tbody tr th:only-of-type {\n",
       "        vertical-align: middle;\n",
       "    }\n",
       "\n",
       "    .dataframe tbody tr th {\n",
       "        vertical-align: top;\n",
       "    }\n",
       "\n",
       "    .dataframe thead th {\n",
       "        text-align: right;\n",
       "    }\n",
       "</style>\n",
       "<table border=\"1\" class=\"dataframe\">\n",
       "  <thead>\n",
       "    <tr style=\"text-align: right;\">\n",
       "      <th></th>\n",
       "      <th>ListingKey</th>\n",
       "      <th>ListingNumber</th>\n",
       "      <th>ListingCreationDate</th>\n",
       "      <th>CreditGrade</th>\n",
       "      <th>Term</th>\n",
       "      <th>LoanStatus</th>\n",
       "      <th>ClosedDate</th>\n",
       "      <th>BorrowerAPR</th>\n",
       "      <th>BorrowerRate</th>\n",
       "      <th>LenderYield</th>\n",
       "      <th>...</th>\n",
       "      <th>LP_ServiceFees</th>\n",
       "      <th>LP_CollectionFees</th>\n",
       "      <th>LP_GrossPrincipalLoss</th>\n",
       "      <th>LP_NetPrincipalLoss</th>\n",
       "      <th>LP_NonPrincipalRecoverypayments</th>\n",
       "      <th>PercentFunded</th>\n",
       "      <th>Recommendations</th>\n",
       "      <th>InvestmentFromFriendsCount</th>\n",
       "      <th>InvestmentFromFriendsAmount</th>\n",
       "      <th>Investors</th>\n",
       "    </tr>\n",
       "  </thead>\n",
       "  <tbody>\n",
       "    <tr>\n",
       "      <th>66618</th>\n",
       "      <td>73003374680232583CB8AD4</td>\n",
       "      <td>70575</td>\n",
       "      <td>2006-12-05 08:30:51.023000000</td>\n",
       "      <td>D</td>\n",
       "      <td>36</td>\n",
       "      <td>Completed</td>\n",
       "      <td>2009-12-19 00:00:00</td>\n",
       "      <td>0.14207</td>\n",
       "      <td>0.1350</td>\n",
       "      <td>0.1200</td>\n",
       "      <td>...</td>\n",
       "      <td>-20.54</td>\n",
       "      <td>0.0</td>\n",
       "      <td>0.00</td>\n",
       "      <td>0.00</td>\n",
       "      <td>0.0</td>\n",
       "      <td>1.0</td>\n",
       "      <td>0</td>\n",
       "      <td>0</td>\n",
       "      <td>0.0</td>\n",
       "      <td>75</td>\n",
       "    </tr>\n",
       "    <tr>\n",
       "      <th>108061</th>\n",
       "      <td>74E3342788760853763076A</td>\n",
       "      <td>375095</td>\n",
       "      <td>2008-07-29 16:13:34.170000000</td>\n",
       "      <td>B</td>\n",
       "      <td>36</td>\n",
       "      <td>Completed</td>\n",
       "      <td>2011-05-12 00:00:00</td>\n",
       "      <td>0.11896</td>\n",
       "      <td>0.1150</td>\n",
       "      <td>0.1050</td>\n",
       "      <td>...</td>\n",
       "      <td>-66.02</td>\n",
       "      <td>0.0</td>\n",
       "      <td>0.00</td>\n",
       "      <td>0.00</td>\n",
       "      <td>0.0</td>\n",
       "      <td>1.0</td>\n",
       "      <td>0</td>\n",
       "      <td>0</td>\n",
       "      <td>0.0</td>\n",
       "      <td>131</td>\n",
       "    </tr>\n",
       "    <tr>\n",
       "      <th>80146</th>\n",
       "      <td>DE013576125700874E41B68</td>\n",
       "      <td>744928</td>\n",
       "      <td>2013-04-05 16:28:32.590000000</td>\n",
       "      <td>NaN</td>\n",
       "      <td>60</td>\n",
       "      <td>Completed</td>\n",
       "      <td>2013-08-19 00:00:00</td>\n",
       "      <td>0.29341</td>\n",
       "      <td>0.2672</td>\n",
       "      <td>0.2572</td>\n",
       "      <td>...</td>\n",
       "      <td>-51.10</td>\n",
       "      <td>0.0</td>\n",
       "      <td>0.00</td>\n",
       "      <td>0.00</td>\n",
       "      <td>0.0</td>\n",
       "      <td>1.0</td>\n",
       "      <td>0</td>\n",
       "      <td>0</td>\n",
       "      <td>0.0</td>\n",
       "      <td>1</td>\n",
       "    </tr>\n",
       "    <tr>\n",
       "      <th>4928</th>\n",
       "      <td>2C343558451782784A20097</td>\n",
       "      <td>647001</td>\n",
       "      <td>2012-09-29 01:31:50.707000000</td>\n",
       "      <td>NaN</td>\n",
       "      <td>60</td>\n",
       "      <td>Chargedoff</td>\n",
       "      <td>2013-11-02 00:00:00</td>\n",
       "      <td>0.35838</td>\n",
       "      <td>0.3304</td>\n",
       "      <td>0.3204</td>\n",
       "      <td>...</td>\n",
       "      <td>-25.97</td>\n",
       "      <td>0.0</td>\n",
       "      <td>3762.27</td>\n",
       "      <td>3762.27</td>\n",
       "      <td>0.0</td>\n",
       "      <td>1.0</td>\n",
       "      <td>0</td>\n",
       "      <td>0</td>\n",
       "      <td>0.0</td>\n",
       "      <td>43</td>\n",
       "    </tr>\n",
       "    <tr>\n",
       "      <th>71387</th>\n",
       "      <td>C93F3561918463739145EEE</td>\n",
       "      <td>665196</td>\n",
       "      <td>2012-11-05 15:20:10.483000000</td>\n",
       "      <td>NaN</td>\n",
       "      <td>36</td>\n",
       "      <td>Current</td>\n",
       "      <td>NaN</td>\n",
       "      <td>0.26528</td>\n",
       "      <td>0.2272</td>\n",
       "      <td>0.2172</td>\n",
       "      <td>...</td>\n",
       "      <td>-26.58</td>\n",
       "      <td>0.0</td>\n",
       "      <td>0.00</td>\n",
       "      <td>0.00</td>\n",
       "      <td>0.0</td>\n",
       "      <td>1.0</td>\n",
       "      <td>0</td>\n",
       "      <td>0</td>\n",
       "      <td>0.0</td>\n",
       "      <td>50</td>\n",
       "    </tr>\n",
       "  </tbody>\n",
       "</table>\n",
       "<p>5 rows × 81 columns</p>\n",
       "</div>"
      ],
      "text/plain": [
       "                     ListingKey  ListingNumber            ListingCreationDate  \\\n",
       "66618   73003374680232583CB8AD4          70575  2006-12-05 08:30:51.023000000   \n",
       "108061  74E3342788760853763076A         375095  2008-07-29 16:13:34.170000000   \n",
       "80146   DE013576125700874E41B68         744928  2013-04-05 16:28:32.590000000   \n",
       "4928    2C343558451782784A20097         647001  2012-09-29 01:31:50.707000000   \n",
       "71387   C93F3561918463739145EEE         665196  2012-11-05 15:20:10.483000000   \n",
       "\n",
       "       CreditGrade  Term  LoanStatus           ClosedDate  BorrowerAPR  \\\n",
       "66618            D    36   Completed  2009-12-19 00:00:00      0.14207   \n",
       "108061           B    36   Completed  2011-05-12 00:00:00      0.11896   \n",
       "80146          NaN    60   Completed  2013-08-19 00:00:00      0.29341   \n",
       "4928           NaN    60  Chargedoff  2013-11-02 00:00:00      0.35838   \n",
       "71387          NaN    36     Current                  NaN      0.26528   \n",
       "\n",
       "        BorrowerRate  LenderYield  ...  LP_ServiceFees  LP_CollectionFees  \\\n",
       "66618         0.1350       0.1200  ...          -20.54                0.0   \n",
       "108061        0.1150       0.1050  ...          -66.02                0.0   \n",
       "80146         0.2672       0.2572  ...          -51.10                0.0   \n",
       "4928          0.3304       0.3204  ...          -25.97                0.0   \n",
       "71387         0.2272       0.2172  ...          -26.58                0.0   \n",
       "\n",
       "        LP_GrossPrincipalLoss  LP_NetPrincipalLoss  \\\n",
       "66618                    0.00                 0.00   \n",
       "108061                   0.00                 0.00   \n",
       "80146                    0.00                 0.00   \n",
       "4928                  3762.27              3762.27   \n",
       "71387                    0.00                 0.00   \n",
       "\n",
       "       LP_NonPrincipalRecoverypayments  PercentFunded  Recommendations  \\\n",
       "66618                              0.0            1.0                0   \n",
       "108061                             0.0            1.0                0   \n",
       "80146                              0.0            1.0                0   \n",
       "4928                               0.0            1.0                0   \n",
       "71387                              0.0            1.0                0   \n",
       "\n",
       "       InvestmentFromFriendsCount InvestmentFromFriendsAmount Investors  \n",
       "66618                           0                         0.0        75  \n",
       "108061                          0                         0.0       131  \n",
       "80146                           0                         0.0         1  \n",
       "4928                            0                         0.0        43  \n",
       "71387                           0                         0.0        50  \n",
       "\n",
       "[5 rows x 81 columns]"
      ]
     },
     "execution_count": 8,
     "metadata": {},
     "output_type": "execute_result"
    }
   ],
   "source": [
    "prosper_load_data_df.sample(5)"
   ]
  },
  {
   "cell_type": "code",
   "execution_count": 9,
   "metadata": {},
   "outputs": [
    {
     "data": {
      "text/plain": [
       "(113937, 81)"
      ]
     },
     "execution_count": 9,
     "metadata": {},
     "output_type": "execute_result"
    }
   ],
   "source": [
    "prosper_load_data_df.shape"
   ]
  },
  {
   "cell_type": "code",
   "execution_count": 10,
   "metadata": {},
   "outputs": [
    {
     "name": "stdout",
     "output_type": "stream",
     "text": [
      "<class 'pandas.core.frame.DataFrame'>\n",
      "RangeIndex: 113937 entries, 0 to 113936\n",
      "Data columns (total 81 columns):\n",
      " #   Column                               Non-Null Count   Dtype  \n",
      "---  ------                               --------------   -----  \n",
      " 0   ListingKey                           113937 non-null  object \n",
      " 1   ListingNumber                        113937 non-null  int64  \n",
      " 2   ListingCreationDate                  113937 non-null  object \n",
      " 3   CreditGrade                          28953 non-null   object \n",
      " 4   Term                                 113937 non-null  int64  \n",
      " 5   LoanStatus                           113937 non-null  object \n",
      " 6   ClosedDate                           55089 non-null   object \n",
      " 7   BorrowerAPR                          113912 non-null  float64\n",
      " 8   BorrowerRate                         113937 non-null  float64\n",
      " 9   LenderYield                          113937 non-null  float64\n",
      " 10  EstimatedEffectiveYield              84853 non-null   float64\n",
      " 11  EstimatedLoss                        84853 non-null   float64\n",
      " 12  EstimatedReturn                      84853 non-null   float64\n",
      " 13  ProsperRating (numeric)              84853 non-null   float64\n",
      " 14  ProsperRating (Alpha)                84853 non-null   object \n",
      " 15  ProsperScore                         84853 non-null   float64\n",
      " 16  ListingCategory (numeric)            113937 non-null  int64  \n",
      " 17  BorrowerState                        108422 non-null  object \n",
      " 18  Occupation                           110349 non-null  object \n",
      " 19  EmploymentStatus                     111682 non-null  object \n",
      " 20  EmploymentStatusDuration             106312 non-null  float64\n",
      " 21  IsBorrowerHomeowner                  113937 non-null  bool   \n",
      " 22  CurrentlyInGroup                     113937 non-null  bool   \n",
      " 23  GroupKey                             13341 non-null   object \n",
      " 24  DateCreditPulled                     113937 non-null  object \n",
      " 25  CreditScoreRangeLower                113346 non-null  float64\n",
      " 26  CreditScoreRangeUpper                113346 non-null  float64\n",
      " 27  FirstRecordedCreditLine              113240 non-null  object \n",
      " 28  CurrentCreditLines                   106333 non-null  float64\n",
      " 29  OpenCreditLines                      106333 non-null  float64\n",
      " 30  TotalCreditLinespast7years           113240 non-null  float64\n",
      " 31  OpenRevolvingAccounts                113937 non-null  int64  \n",
      " 32  OpenRevolvingMonthlyPayment          113937 non-null  float64\n",
      " 33  InquiriesLast6Months                 113240 non-null  float64\n",
      " 34  TotalInquiries                       112778 non-null  float64\n",
      " 35  CurrentDelinquencies                 113240 non-null  float64\n",
      " 36  AmountDelinquent                     106315 non-null  float64\n",
      " 37  DelinquenciesLast7Years              112947 non-null  float64\n",
      " 38  PublicRecordsLast10Years             113240 non-null  float64\n",
      " 39  PublicRecordsLast12Months            106333 non-null  float64\n",
      " 40  RevolvingCreditBalance               106333 non-null  float64\n",
      " 41  BankcardUtilization                  106333 non-null  float64\n",
      " 42  AvailableBankcardCredit              106393 non-null  float64\n",
      " 43  TotalTrades                          106393 non-null  float64\n",
      " 44  TradesNeverDelinquent (percentage)   106393 non-null  float64\n",
      " 45  TradesOpenedLast6Months              106393 non-null  float64\n",
      " 46  DebtToIncomeRatio                    105383 non-null  float64\n",
      " 47  IncomeRange                          113937 non-null  object \n",
      " 48  IncomeVerifiable                     113937 non-null  bool   \n",
      " 49  StatedMonthlyIncome                  113937 non-null  float64\n",
      " 50  LoanKey                              113937 non-null  object \n",
      " 51  TotalProsperLoans                    22085 non-null   float64\n",
      " 52  TotalProsperPaymentsBilled           22085 non-null   float64\n",
      " 53  OnTimeProsperPayments                22085 non-null   float64\n",
      " 54  ProsperPaymentsLessThanOneMonthLate  22085 non-null   float64\n",
      " 55  ProsperPaymentsOneMonthPlusLate      22085 non-null   float64\n",
      " 56  ProsperPrincipalBorrowed             22085 non-null   float64\n",
      " 57  ProsperPrincipalOutstanding          22085 non-null   float64\n",
      " 58  ScorexChangeAtTimeOfListing          18928 non-null   float64\n",
      " 59  LoanCurrentDaysDelinquent            113937 non-null  int64  \n",
      " 60  LoanFirstDefaultedCycleNumber        16952 non-null   float64\n",
      " 61  LoanMonthsSinceOrigination           113937 non-null  int64  \n",
      " 62  LoanNumber                           113937 non-null  int64  \n",
      " 63  LoanOriginalAmount                   113937 non-null  int64  \n",
      " 64  LoanOriginationDate                  113937 non-null  object \n",
      " 65  LoanOriginationQuarter               113937 non-null  object \n",
      " 66  MemberKey                            113937 non-null  object \n",
      " 67  MonthlyLoanPayment                   113937 non-null  float64\n",
      " 68  LP_CustomerPayments                  113937 non-null  float64\n",
      " 69  LP_CustomerPrincipalPayments         113937 non-null  float64\n",
      " 70  LP_InterestandFees                   113937 non-null  float64\n",
      " 71  LP_ServiceFees                       113937 non-null  float64\n",
      " 72  LP_CollectionFees                    113937 non-null  float64\n",
      " 73  LP_GrossPrincipalLoss                113937 non-null  float64\n",
      " 74  LP_NetPrincipalLoss                  113937 non-null  float64\n",
      " 75  LP_NonPrincipalRecoverypayments      113937 non-null  float64\n",
      " 76  PercentFunded                        113937 non-null  float64\n",
      " 77  Recommendations                      113937 non-null  int64  \n",
      " 78  InvestmentFromFriendsCount           113937 non-null  int64  \n",
      " 79  InvestmentFromFriendsAmount          113937 non-null  float64\n",
      " 80  Investors                            113937 non-null  int64  \n",
      "dtypes: bool(3), float64(50), int64(11), object(17)\n",
      "memory usage: 68.1+ MB\n"
     ]
    }
   ],
   "source": [
    "prosper_load_data_df.info()"
   ]
  },
  {
   "cell_type": "markdown",
   "metadata": {},
   "source": [
    "The dataset is comprised of 113937 rows (loans) and 81 columns. The purpose of each column is described in the [data dictionary](#section). Before we delve into the contents, we need to make sure certain basic data hygiene criteria are met. Are there any duplicate rows?"
   ]
  },
  {
   "cell_type": "code",
   "execution_count": 11,
   "metadata": {},
   "outputs": [
    {
     "data": {
      "text/plain": [
       "0"
      ]
     },
     "execution_count": 11,
     "metadata": {},
     "output_type": "execute_result"
    }
   ],
   "source": [
    "prosper_load_data_df.duplicated().sum()"
   ]
  },
  {
   "cell_type": "markdown",
   "metadata": {},
   "source": [
    "Are there multiple records with the same ``ListingKey`` values?"
   ]
  },
  {
   "cell_type": "code",
   "execution_count": 12,
   "metadata": {},
   "outputs": [
    {
     "data": {
      "text/plain": [
       "871"
      ]
     },
     "execution_count": 12,
     "metadata": {},
     "output_type": "execute_result"
    }
   ],
   "source": [
    "prosper_load_data_df.ListingKey.duplicated().sum()"
   ]
  },
  {
   "cell_type": "markdown",
   "metadata": {},
   "source": [
    "There are entries with the same ``ListingKey``. Let's explore this records to determine whether we need to drop the duplicates or not."
   ]
  },
  {
   "cell_type": "code",
   "execution_count": 13,
   "metadata": {},
   "outputs": [
    {
     "data": {
      "text/html": [
       "<div>\n",
       "<style scoped>\n",
       "    .dataframe tbody tr th:only-of-type {\n",
       "        vertical-align: middle;\n",
       "    }\n",
       "\n",
       "    .dataframe tbody tr th {\n",
       "        vertical-align: top;\n",
       "    }\n",
       "\n",
       "    .dataframe thead th {\n",
       "        text-align: right;\n",
       "    }\n",
       "</style>\n",
       "<table border=\"1\" class=\"dataframe\">\n",
       "  <thead>\n",
       "    <tr style=\"text-align: right;\">\n",
       "      <th></th>\n",
       "      <th>ListingKey</th>\n",
       "      <th>ListingNumber</th>\n",
       "      <th>ListingCreationDate</th>\n",
       "      <th>CreditGrade</th>\n",
       "      <th>Term</th>\n",
       "      <th>LoanStatus</th>\n",
       "      <th>ClosedDate</th>\n",
       "      <th>BorrowerAPR</th>\n",
       "      <th>BorrowerRate</th>\n",
       "      <th>LenderYield</th>\n",
       "      <th>...</th>\n",
       "      <th>LP_ServiceFees</th>\n",
       "      <th>LP_CollectionFees</th>\n",
       "      <th>LP_GrossPrincipalLoss</th>\n",
       "      <th>LP_NetPrincipalLoss</th>\n",
       "      <th>LP_NonPrincipalRecoverypayments</th>\n",
       "      <th>PercentFunded</th>\n",
       "      <th>Recommendations</th>\n",
       "      <th>InvestmentFromFriendsCount</th>\n",
       "      <th>InvestmentFromFriendsAmount</th>\n",
       "      <th>Investors</th>\n",
       "    </tr>\n",
       "  </thead>\n",
       "  <tbody>\n",
       "    <tr>\n",
       "      <th>32680</th>\n",
       "      <td>00223594917038064A7C947</td>\n",
       "      <td>998257</td>\n",
       "      <td>2013-11-15 16:58:37.167000000</td>\n",
       "      <td>NaN</td>\n",
       "      <td>36</td>\n",
       "      <td>Current</td>\n",
       "      <td>NaN</td>\n",
       "      <td>0.23540</td>\n",
       "      <td>0.1980</td>\n",
       "      <td>0.1880</td>\n",
       "      <td>...</td>\n",
       "      <td>-12.34</td>\n",
       "      <td>0.0</td>\n",
       "      <td>0.0</td>\n",
       "      <td>0.0</td>\n",
       "      <td>0.0</td>\n",
       "      <td>1.0</td>\n",
       "      <td>0</td>\n",
       "      <td>0</td>\n",
       "      <td>0.0</td>\n",
       "      <td>1</td>\n",
       "    </tr>\n",
       "    <tr>\n",
       "      <th>32681</th>\n",
       "      <td>00223594917038064A7C947</td>\n",
       "      <td>998257</td>\n",
       "      <td>2013-11-15 16:58:37.167000000</td>\n",
       "      <td>NaN</td>\n",
       "      <td>36</td>\n",
       "      <td>Current</td>\n",
       "      <td>NaN</td>\n",
       "      <td>0.23540</td>\n",
       "      <td>0.1980</td>\n",
       "      <td>0.1880</td>\n",
       "      <td>...</td>\n",
       "      <td>-12.34</td>\n",
       "      <td>0.0</td>\n",
       "      <td>0.0</td>\n",
       "      <td>0.0</td>\n",
       "      <td>0.0</td>\n",
       "      <td>1.0</td>\n",
       "      <td>0</td>\n",
       "      <td>0</td>\n",
       "      <td>0.0</td>\n",
       "      <td>1</td>\n",
       "    </tr>\n",
       "    <tr>\n",
       "      <th>32964</th>\n",
       "      <td>00473590513960687DD308F</td>\n",
       "      <td>941296</td>\n",
       "      <td>2013-10-07 15:47:36.023000000</td>\n",
       "      <td>NaN</td>\n",
       "      <td>60</td>\n",
       "      <td>Current</td>\n",
       "      <td>NaN</td>\n",
       "      <td>0.22242</td>\n",
       "      <td>0.1980</td>\n",
       "      <td>0.1880</td>\n",
       "      <td>...</td>\n",
       "      <td>-73.12</td>\n",
       "      <td>0.0</td>\n",
       "      <td>0.0</td>\n",
       "      <td>0.0</td>\n",
       "      <td>0.0</td>\n",
       "      <td>1.0</td>\n",
       "      <td>0</td>\n",
       "      <td>0</td>\n",
       "      <td>0.0</td>\n",
       "      <td>1</td>\n",
       "    </tr>\n",
       "    <tr>\n",
       "      <th>17274</th>\n",
       "      <td>00473590513960687DD308F</td>\n",
       "      <td>941296</td>\n",
       "      <td>2013-10-07 15:47:36.023000000</td>\n",
       "      <td>NaN</td>\n",
       "      <td>60</td>\n",
       "      <td>Current</td>\n",
       "      <td>NaN</td>\n",
       "      <td>0.22242</td>\n",
       "      <td>0.1980</td>\n",
       "      <td>0.1880</td>\n",
       "      <td>...</td>\n",
       "      <td>-73.12</td>\n",
       "      <td>0.0</td>\n",
       "      <td>0.0</td>\n",
       "      <td>0.0</td>\n",
       "      <td>0.0</td>\n",
       "      <td>1.0</td>\n",
       "      <td>0</td>\n",
       "      <td>0</td>\n",
       "      <td>0.0</td>\n",
       "      <td>1</td>\n",
       "    </tr>\n",
       "    <tr>\n",
       "      <th>7478</th>\n",
       "      <td>0098360461900952056DB93</td>\n",
       "      <td>1190614</td>\n",
       "      <td>2014-03-02 14:21:39.583000000</td>\n",
       "      <td>NaN</td>\n",
       "      <td>36</td>\n",
       "      <td>Current</td>\n",
       "      <td>NaN</td>\n",
       "      <td>0.29660</td>\n",
       "      <td>0.2574</td>\n",
       "      <td>0.2474</td>\n",
       "      <td>...</td>\n",
       "      <td>0.00</td>\n",
       "      <td>0.0</td>\n",
       "      <td>0.0</td>\n",
       "      <td>0.0</td>\n",
       "      <td>0.0</td>\n",
       "      <td>1.0</td>\n",
       "      <td>0</td>\n",
       "      <td>0</td>\n",
       "      <td>0.0</td>\n",
       "      <td>1</td>\n",
       "    </tr>\n",
       "    <tr>\n",
       "      <th>33220</th>\n",
       "      <td>0098360461900952056DB93</td>\n",
       "      <td>1190614</td>\n",
       "      <td>2014-03-02 14:21:39.583000000</td>\n",
       "      <td>NaN</td>\n",
       "      <td>36</td>\n",
       "      <td>Current</td>\n",
       "      <td>NaN</td>\n",
       "      <td>0.29660</td>\n",
       "      <td>0.2574</td>\n",
       "      <td>0.2474</td>\n",
       "      <td>...</td>\n",
       "      <td>0.00</td>\n",
       "      <td>0.0</td>\n",
       "      <td>0.0</td>\n",
       "      <td>0.0</td>\n",
       "      <td>0.0</td>\n",
       "      <td>1.0</td>\n",
       "      <td>0</td>\n",
       "      <td>0</td>\n",
       "      <td>0.0</td>\n",
       "      <td>1</td>\n",
       "    </tr>\n",
       "    <tr>\n",
       "      <th>27677</th>\n",
       "      <td>01163604029146842E28D9C</td>\n",
       "      <td>1233732</td>\n",
       "      <td>2014-02-25 14:33:39.830000000</td>\n",
       "      <td>NaN</td>\n",
       "      <td>36</td>\n",
       "      <td>Current</td>\n",
       "      <td>NaN</td>\n",
       "      <td>0.31975</td>\n",
       "      <td>0.2800</td>\n",
       "      <td>0.2700</td>\n",
       "      <td>...</td>\n",
       "      <td>0.00</td>\n",
       "      <td>0.0</td>\n",
       "      <td>0.0</td>\n",
       "      <td>0.0</td>\n",
       "      <td>0.0</td>\n",
       "      <td>1.0</td>\n",
       "      <td>0</td>\n",
       "      <td>0</td>\n",
       "      <td>0.0</td>\n",
       "      <td>1</td>\n",
       "    </tr>\n",
       "    <tr>\n",
       "      <th>788</th>\n",
       "      <td>01163604029146842E28D9C</td>\n",
       "      <td>1233732</td>\n",
       "      <td>2014-02-25 14:33:39.830000000</td>\n",
       "      <td>NaN</td>\n",
       "      <td>36</td>\n",
       "      <td>Current</td>\n",
       "      <td>NaN</td>\n",
       "      <td>0.31975</td>\n",
       "      <td>0.2800</td>\n",
       "      <td>0.2700</td>\n",
       "      <td>...</td>\n",
       "      <td>0.00</td>\n",
       "      <td>0.0</td>\n",
       "      <td>0.0</td>\n",
       "      <td>0.0</td>\n",
       "      <td>0.0</td>\n",
       "      <td>1.0</td>\n",
       "      <td>0</td>\n",
       "      <td>0</td>\n",
       "      <td>0.0</td>\n",
       "      <td>1</td>\n",
       "    </tr>\n",
       "    <tr>\n",
       "      <th>27360</th>\n",
       "      <td>014F35910923350802E1B29</td>\n",
       "      <td>930618</td>\n",
       "      <td>2013-09-26 16:44:24.163000000</td>\n",
       "      <td>NaN</td>\n",
       "      <td>60</td>\n",
       "      <td>Current</td>\n",
       "      <td>NaN</td>\n",
       "      <td>0.19323</td>\n",
       "      <td>0.1695</td>\n",
       "      <td>0.1595</td>\n",
       "      <td>...</td>\n",
       "      <td>-27.50</td>\n",
       "      <td>0.0</td>\n",
       "      <td>0.0</td>\n",
       "      <td>0.0</td>\n",
       "      <td>0.0</td>\n",
       "      <td>1.0</td>\n",
       "      <td>0</td>\n",
       "      <td>0</td>\n",
       "      <td>0.0</td>\n",
       "      <td>1</td>\n",
       "    </tr>\n",
       "    <tr>\n",
       "      <th>18324</th>\n",
       "      <td>014F35910923350802E1B29</td>\n",
       "      <td>930618</td>\n",
       "      <td>2013-09-26 16:44:24.163000000</td>\n",
       "      <td>NaN</td>\n",
       "      <td>60</td>\n",
       "      <td>Current</td>\n",
       "      <td>NaN</td>\n",
       "      <td>0.19323</td>\n",
       "      <td>0.1695</td>\n",
       "      <td>0.1595</td>\n",
       "      <td>...</td>\n",
       "      <td>-27.50</td>\n",
       "      <td>0.0</td>\n",
       "      <td>0.0</td>\n",
       "      <td>0.0</td>\n",
       "      <td>0.0</td>\n",
       "      <td>1.0</td>\n",
       "      <td>0</td>\n",
       "      <td>0</td>\n",
       "      <td>0.0</td>\n",
       "      <td>1</td>\n",
       "    </tr>\n",
       "  </tbody>\n",
       "</table>\n",
       "<p>10 rows × 81 columns</p>\n",
       "</div>"
      ],
      "text/plain": [
       "                    ListingKey  ListingNumber            ListingCreationDate  \\\n",
       "32680  00223594917038064A7C947         998257  2013-11-15 16:58:37.167000000   \n",
       "32681  00223594917038064A7C947         998257  2013-11-15 16:58:37.167000000   \n",
       "32964  00473590513960687DD308F         941296  2013-10-07 15:47:36.023000000   \n",
       "17274  00473590513960687DD308F         941296  2013-10-07 15:47:36.023000000   \n",
       "7478   0098360461900952056DB93        1190614  2014-03-02 14:21:39.583000000   \n",
       "33220  0098360461900952056DB93        1190614  2014-03-02 14:21:39.583000000   \n",
       "27677  01163604029146842E28D9C        1233732  2014-02-25 14:33:39.830000000   \n",
       "788    01163604029146842E28D9C        1233732  2014-02-25 14:33:39.830000000   \n",
       "27360  014F35910923350802E1B29         930618  2013-09-26 16:44:24.163000000   \n",
       "18324  014F35910923350802E1B29         930618  2013-09-26 16:44:24.163000000   \n",
       "\n",
       "      CreditGrade  Term LoanStatus ClosedDate  BorrowerAPR  BorrowerRate  \\\n",
       "32680         NaN    36    Current        NaN      0.23540        0.1980   \n",
       "32681         NaN    36    Current        NaN      0.23540        0.1980   \n",
       "32964         NaN    60    Current        NaN      0.22242        0.1980   \n",
       "17274         NaN    60    Current        NaN      0.22242        0.1980   \n",
       "7478          NaN    36    Current        NaN      0.29660        0.2574   \n",
       "33220         NaN    36    Current        NaN      0.29660        0.2574   \n",
       "27677         NaN    36    Current        NaN      0.31975        0.2800   \n",
       "788           NaN    36    Current        NaN      0.31975        0.2800   \n",
       "27360         NaN    60    Current        NaN      0.19323        0.1695   \n",
       "18324         NaN    60    Current        NaN      0.19323        0.1695   \n",
       "\n",
       "       LenderYield  ...  LP_ServiceFees  LP_CollectionFees  \\\n",
       "32680       0.1880  ...          -12.34                0.0   \n",
       "32681       0.1880  ...          -12.34                0.0   \n",
       "32964       0.1880  ...          -73.12                0.0   \n",
       "17274       0.1880  ...          -73.12                0.0   \n",
       "7478        0.2474  ...            0.00                0.0   \n",
       "33220       0.2474  ...            0.00                0.0   \n",
       "27677       0.2700  ...            0.00                0.0   \n",
       "788         0.2700  ...            0.00                0.0   \n",
       "27360       0.1595  ...          -27.50                0.0   \n",
       "18324       0.1595  ...          -27.50                0.0   \n",
       "\n",
       "       LP_GrossPrincipalLoss  LP_NetPrincipalLoss  \\\n",
       "32680                    0.0                  0.0   \n",
       "32681                    0.0                  0.0   \n",
       "32964                    0.0                  0.0   \n",
       "17274                    0.0                  0.0   \n",
       "7478                     0.0                  0.0   \n",
       "33220                    0.0                  0.0   \n",
       "27677                    0.0                  0.0   \n",
       "788                      0.0                  0.0   \n",
       "27360                    0.0                  0.0   \n",
       "18324                    0.0                  0.0   \n",
       "\n",
       "      LP_NonPrincipalRecoverypayments  PercentFunded  Recommendations  \\\n",
       "32680                             0.0            1.0                0   \n",
       "32681                             0.0            1.0                0   \n",
       "32964                             0.0            1.0                0   \n",
       "17274                             0.0            1.0                0   \n",
       "7478                              0.0            1.0                0   \n",
       "33220                             0.0            1.0                0   \n",
       "27677                             0.0            1.0                0   \n",
       "788                               0.0            1.0                0   \n",
       "27360                             0.0            1.0                0   \n",
       "18324                             0.0            1.0                0   \n",
       "\n",
       "      InvestmentFromFriendsCount InvestmentFromFriendsAmount Investors  \n",
       "32680                          0                         0.0         1  \n",
       "32681                          0                         0.0         1  \n",
       "32964                          0                         0.0         1  \n",
       "17274                          0                         0.0         1  \n",
       "7478                           0                         0.0         1  \n",
       "33220                          0                         0.0         1  \n",
       "27677                          0                         0.0         1  \n",
       "788                            0                         0.0         1  \n",
       "27360                          0                         0.0         1  \n",
       "18324                          0                         0.0         1  \n",
       "\n",
       "[10 rows x 81 columns]"
      ]
     },
     "execution_count": 13,
     "metadata": {},
     "output_type": "execute_result"
    }
   ],
   "source": [
    "prosper_load_data_df[prosper_load_data_df.ListingKey.duplicated(keep=False)].sort_values(\"ListingKey\").head(10)"
   ]
  },
  {
   "cell_type": "markdown",
   "metadata": {},
   "source": [
    "From these sample, we can assume that there are all duplicated entries which can be safely removed. Notice that we've copied the original datafrome onto a new variable ``prosper_load_data_clean_df`` to keep the original data as reference."
   ]
  },
  {
   "cell_type": "code",
   "execution_count": 14,
   "metadata": {},
   "outputs": [],
   "source": [
    "prosper_load_data_clean_df = prosper_load_data_df.copy()"
   ]
  },
  {
   "cell_type": "code",
   "execution_count": 15,
   "metadata": {},
   "outputs": [],
   "source": [
    "prosper_load_data_clean_df = prosper_load_data_clean_df[~prosper_load_data_clean_df.ListingKey.duplicated()]"
   ]
  },
  {
   "cell_type": "code",
   "execution_count": 16,
   "metadata": {},
   "outputs": [
    {
     "data": {
      "text/plain": [
       "(113066, 81)"
      ]
     },
     "execution_count": 16,
     "metadata": {},
     "output_type": "execute_result"
    }
   ],
   "source": [
    "prosper_load_data_clean_df.shape"
   ]
  },
  {
   "cell_type": "markdown",
   "metadata": {},
   "source": [
    "Now we're left with 113066 rows. Additional clean-up might be performed on the next section where we have to analyze the contents of the chosen columns."
   ]
  },
  {
   "cell_type": "markdown",
   "metadata": {},
   "source": [
    "### What is/are the main feature(s) of interest in your dataset?"
   ]
  },
  {
   "cell_type": "markdown",
   "metadata": {},
   "source": [
    "The initial set of columns of our interest is the following (you can check the [data dictionary](#data-dictionary) for an explanation of each column):"
   ]
  },
  {
   "cell_type": "markdown",
   "metadata": {},
   "source": [
    "* ``ListingCreationDate``\n",
    "* ``CreditGrade``\n",
    "* ``Term``\n",
    "* ``LoanStatus``\n",
    "* ``ClosedDate``\n",
    "* ``BorrowerAPR``\n",
    "* ``BorrowerRate``\n",
    "* ``ProsperRating (Alpha)``\n",
    "* ``ListingCategory (numeric)``\n",
    "* ``Occupation``\n",
    "* ``EmploymentStatus``\n",
    "* ``EmploymentStatusDuration``\n",
    "* ``IsBorrowerHomeowner``\n",
    "* ``DebtToIncomeRatio``\n",
    "* ``IncomeRange``\n",
    "* ``LoanOriginalAmount``\n",
    "* ``LoanOriginationDate``\n",
    "* ``InvestmentFromFriendsCount``\n",
    "* ``InvestmentFromFriendsAmount``\n",
    "* ``Investors``"
   ]
  },
  {
   "cell_type": "markdown",
   "metadata": {},
   "source": [
    "This set of columns was chosen with the idea of analyzing the influence of socio-economic and financial factors on multiple aspects of the loans:\n",
    "\n",
    "* Which factors influence the APR the most?\n",
    "* Certain occupations benefited with softer loans more than others?\n",
    "* What's the impact of having investment from friends on loans?\n",
    "* Are there any specific patterns of variables for each loan category?\n",
    "* How did the loans fared over the years. Is the 2008 global crisis represented?"
   ]
  },
  {
   "cell_type": "markdown",
   "metadata": {},
   "source": [
    "Before we can proceed with the analysis, we need to explore each column to determine whether its contents or structure are appropriate for our needs, and if they aren't, can they be adapted or do we need to exclude them?"
   ]
  },
  {
   "cell_type": "markdown",
   "metadata": {},
   "source": [
    "#### ``ListingCreationDate``, ``ClosedDate``, ``LoanOriginationDate``"
   ]
  },
  {
   "cell_type": "code",
   "execution_count": 17,
   "metadata": {},
   "outputs": [
    {
     "name": "stdout",
     "output_type": "stream",
     "text": [
      "<class 'pandas.core.frame.DataFrame'>\n",
      "Int64Index: 113066 entries, 0 to 113936\n",
      "Data columns (total 3 columns):\n",
      " #   Column               Non-Null Count   Dtype \n",
      "---  ------               --------------   ----- \n",
      " 0   ListingCreationDate  113066 non-null  object\n",
      " 1   ClosedDate           55076 non-null   object\n",
      " 2   LoanOriginationDate  113066 non-null  object\n",
      "dtypes: object(3)\n",
      "memory usage: 3.5+ MB\n"
     ]
    }
   ],
   "source": [
    "prosper_load_data_clean_df[[\"ListingCreationDate\", \"ClosedDate\", \"LoanOriginationDate\"]].info()"
   ]
  },
  {
   "cell_type": "code",
   "execution_count": 18,
   "metadata": {},
   "outputs": [
    {
     "data": {
      "text/html": [
       "<div>\n",
       "<style scoped>\n",
       "    .dataframe tbody tr th:only-of-type {\n",
       "        vertical-align: middle;\n",
       "    }\n",
       "\n",
       "    .dataframe tbody tr th {\n",
       "        vertical-align: top;\n",
       "    }\n",
       "\n",
       "    .dataframe thead th {\n",
       "        text-align: right;\n",
       "    }\n",
       "</style>\n",
       "<table border=\"1\" class=\"dataframe\">\n",
       "  <thead>\n",
       "    <tr style=\"text-align: right;\">\n",
       "      <th></th>\n",
       "      <th>ListingCreationDate</th>\n",
       "      <th>ClosedDate</th>\n",
       "      <th>LoanOriginationDate</th>\n",
       "    </tr>\n",
       "  </thead>\n",
       "  <tbody>\n",
       "    <tr>\n",
       "      <th>55146</th>\n",
       "      <td>2013-05-25 20:23:00.617000000</td>\n",
       "      <td>NaN</td>\n",
       "      <td>2013-06-28 00:00:00</td>\n",
       "    </tr>\n",
       "    <tr>\n",
       "      <th>101356</th>\n",
       "      <td>2011-06-10 16:33:24.590000000</td>\n",
       "      <td>2012-09-28 00:00:00</td>\n",
       "      <td>2011-06-28 00:00:00</td>\n",
       "    </tr>\n",
       "    <tr>\n",
       "      <th>86469</th>\n",
       "      <td>2013-11-28 07:10:27.190000000</td>\n",
       "      <td>NaN</td>\n",
       "      <td>2013-12-05 00:00:00</td>\n",
       "    </tr>\n",
       "    <tr>\n",
       "      <th>35242</th>\n",
       "      <td>2013-12-16 21:47:21.973000000</td>\n",
       "      <td>NaN</td>\n",
       "      <td>2013-12-30 00:00:00</td>\n",
       "    </tr>\n",
       "    <tr>\n",
       "      <th>31259</th>\n",
       "      <td>2013-11-01 15:12:07.610000000</td>\n",
       "      <td>NaN</td>\n",
       "      <td>2013-11-07 00:00:00</td>\n",
       "    </tr>\n",
       "  </tbody>\n",
       "</table>\n",
       "</div>"
      ],
      "text/plain": [
       "                  ListingCreationDate           ClosedDate  \\\n",
       "55146   2013-05-25 20:23:00.617000000                  NaN   \n",
       "101356  2011-06-10 16:33:24.590000000  2012-09-28 00:00:00   \n",
       "86469   2013-11-28 07:10:27.190000000                  NaN   \n",
       "35242   2013-12-16 21:47:21.973000000                  NaN   \n",
       "31259   2013-11-01 15:12:07.610000000                  NaN   \n",
       "\n",
       "        LoanOriginationDate  \n",
       "55146   2013-06-28 00:00:00  \n",
       "101356  2011-06-28 00:00:00  \n",
       "86469   2013-12-05 00:00:00  \n",
       "35242   2013-12-30 00:00:00  \n",
       "31259   2013-11-07 00:00:00  "
      ]
     },
     "execution_count": 18,
     "metadata": {},
     "output_type": "execute_result"
    }
   ],
   "source": [
    "prosper_load_data_clean_df[[\"ListingCreationDate\", \"ClosedDate\", \"LoanOriginationDate\"]].sample(5)"
   ]
  },
  {
   "cell_type": "markdown",
   "metadata": {},
   "source": [
    "These three columns represent dates, with ``ListingCreationDate`` in particular also containing time information, but are stored as strings. Before we can continue, we should convert these columns to ``datetime64`` using pandas' ``to_datetime``."
   ]
  },
  {
   "cell_type": "code",
   "execution_count": 19,
   "metadata": {},
   "outputs": [],
   "source": [
    "prosper_load_data_clean_df[\"ListingCreationDate\"] = pd.to_datetime(prosper_load_data_clean_df.ListingCreationDate)\n",
    "prosper_load_data_clean_df[\"ClosedDate\"] = pd.to_datetime(prosper_load_data_clean_df.ClosedDate)\n",
    "prosper_load_data_clean_df[\"LoanOriginationDate\"] = pd.to_datetime(prosper_load_data_clean_df.LoanOriginationDate)"
   ]
  },
  {
   "cell_type": "code",
   "execution_count": 20,
   "metadata": {},
   "outputs": [
    {
     "name": "stdout",
     "output_type": "stream",
     "text": [
      "<class 'pandas.core.frame.DataFrame'>\n",
      "Int64Index: 113066 entries, 0 to 113936\n",
      "Data columns (total 3 columns):\n",
      " #   Column               Non-Null Count   Dtype         \n",
      "---  ------               --------------   -----         \n",
      " 0   ListingCreationDate  113066 non-null  datetime64[ns]\n",
      " 1   ClosedDate           55076 non-null   datetime64[ns]\n",
      " 2   LoanOriginationDate  113066 non-null  datetime64[ns]\n",
      "dtypes: datetime64[ns](3)\n",
      "memory usage: 3.5 MB\n"
     ]
    }
   ],
   "source": [
    "prosper_load_data_clean_df[[\"ListingCreationDate\", \"ClosedDate\", \"LoanOriginationDate\"]].info()"
   ]
  },
  {
   "cell_type": "markdown",
   "metadata": {},
   "source": [
    "Let's now focus on the contents of these columns. The first observation is that ``ClosedDate`` is only populated on 55076 rows. This means that if we want to analyse closed loands, we'll have to limit our observations to these rows."
   ]
  },
  {
   "cell_type": "code",
   "execution_count": 21,
   "metadata": {},
   "outputs": [
    {
     "data": {
      "text/markdown": [
       "* **ListingCreationDate**: min = 2005-11-09 20:44:28.847000, max = 2014-03-10 12:20:53.760000\n",
       "* **ClosedDate**: min = 2005-11-25 00:00:00, max = 2014-03-10 00:00:00\n",
       "* **LoanOriginationDate**: min = 2005-11-15 00:00:00, max = 2014-03-12 00:00:00\n"
      ],
      "text/plain": [
       "<IPython.core.display.Markdown object>"
      ]
     },
     "metadata": {},
     "output_type": "display_data"
    }
   ],
   "source": [
    "display(Markdown(f\"\"\"\\\n",
    "* **ListingCreationDate**: min = {prosper_load_data_clean_df.ListingCreationDate.min()}, max = {prosper_load_data_clean_df.ListingCreationDate.max()}\n",
    "* **ClosedDate**: min = {prosper_load_data_clean_df.ClosedDate.min()}, max = {prosper_load_data_clean_df.ClosedDate.max()}\n",
    "* **LoanOriginationDate**: min = {prosper_load_data_clean_df.LoanOriginationDate.min()}, max = {prosper_load_data_clean_df.LoanOriginationDate.max()}\n",
    "\"\"\"))"
   ]
  },
  {
   "cell_type": "markdown",
   "metadata": {},
   "source": [
    "This means that our dataset goes from November 2005 until March 2014."
   ]
  },
  {
   "cell_type": "markdown",
   "metadata": {},
   "source": [
    "#### ``CreditGrade``, ``ProsperRating (Alpha)``"
   ]
  },
  {
   "cell_type": "markdown",
   "metadata": {},
   "source": [
    "According to the [data dictionary](#data-dictionary), ``CreditGrade`` will only be populated for loans prior to 2009, while ``ProsperRating (Alpha)`` will be available for deals from 2009 onwards. This situation will make any global analysis on these columns impossible, it might be interesting to analyse each period in isolation or to perform a comparison between the two variables."
   ]
  },
  {
   "cell_type": "code",
   "execution_count": 22,
   "metadata": {},
   "outputs": [
    {
     "data": {
      "text/plain": [
       "84113"
      ]
     },
     "execution_count": 22,
     "metadata": {},
     "output_type": "execute_result"
    }
   ],
   "source": [
    "prosper_load_data_clean_df.CreditGrade.isna().sum()"
   ]
  },
  {
   "cell_type": "code",
   "execution_count": 23,
   "metadata": {},
   "outputs": [
    {
     "data": {
      "text/plain": [
       "C     5649\n",
       "D     5153\n",
       "B     4389\n",
       "AA    3509\n",
       "HR    3508\n",
       "A     3315\n",
       "E     3289\n",
       "NC     141\n",
       "Name: CreditGrade, dtype: int64"
      ]
     },
     "execution_count": 23,
     "metadata": {},
     "output_type": "execute_result"
    }
   ],
   "source": [
    "prosper_load_data_clean_df.CreditGrade.value_counts()"
   ]
  },
  {
   "cell_type": "markdown",
   "metadata": {},
   "source": [
    "According to Prosper's [API documentation](https://www.prosper.com/Downloads/Services/Documentation/ProsperAPI_Objects_Details.html) this is a categorial column with the following scale:\n",
    "\n",
    "1. NC\n",
    "2. HR\n",
    "3. E\n",
    "4. D\n",
    "5. C\n",
    "6. B\n",
    "7. A\n",
    "8. AA"
   ]
  },
  {
   "cell_type": "code",
   "execution_count": 24,
   "metadata": {},
   "outputs": [
    {
     "data": {
      "text/plain": [
       "29084"
      ]
     },
     "execution_count": 24,
     "metadata": {},
     "output_type": "execute_result"
    }
   ],
   "source": [
    "prosper_load_data_clean_df[\"ProsperRating (Alpha)\"].isna().sum()"
   ]
  },
  {
   "cell_type": "code",
   "execution_count": 25,
   "metadata": {},
   "outputs": [
    {
     "data": {
      "text/plain": [
       "C     18096\n",
       "B     15368\n",
       "A     14390\n",
       "D     14170\n",
       "E      9716\n",
       "HR     6917\n",
       "AA     5325\n",
       "Name: ProsperRating (Alpha), dtype: int64"
      ]
     },
     "execution_count": 25,
     "metadata": {},
     "output_type": "execute_result"
    }
   ],
   "source": [
    "prosper_load_data_clean_df[\"ProsperRating (Alpha)\"].value_counts()"
   ]
  },
  {
   "cell_type": "markdown",
   "metadata": {},
   "source": [
    "According to Prosper's [API documentation](https://www.prosper.com/Downloads/Services/Documentation/ProsperAPI_Objects_Details.html) and the following [article](https://www.prosper.com/invest/how-to-invest/prosper-ratings/?mod=article_inline) this is a categorial column with the following scale:\n",
    "\n",
    "1. NA\n",
    "2. HR\n",
    "3. E\n",
    "4. D\n",
    "5. C\n",
    "6. B\n",
    "7. A\n",
    "9. AA"
   ]
  },
  {
   "cell_type": "markdown",
   "metadata": {},
   "source": [
    "Although there seems to be a correspondence between values, we cannot assume these columns are compatible, so they will be kept separate. Given that these are ordinal categorical values, we should convert them accordingly."
   ]
  },
  {
   "cell_type": "code",
   "execution_count": 26,
   "metadata": {},
   "outputs": [],
   "source": [
    "prosper_load_data_clean_df[\"CreditGrade\"] = prosper_load_data_clean_df.CreditGrade.astype(\n",
    "    pd.CategoricalDtype(ordered=True, categories=[\"NC\", \"HR\", \"E\", \"D\", \"C\", \"B\", \"A\", \"AA\"])\n",
    ")\n",
    "prosper_load_data_clean_df[\"ProsperRating (Alpha)\"] = prosper_load_data_clean_df[\"ProsperRating (Alpha)\"].astype(\n",
    "    pd.CategoricalDtype(ordered=True, categories=[\"NA\", \"HR\", \"E\", \"D\", \"C\", \"B\", \"A\", \"AA\"])\n",
    ")"
   ]
  },
  {
   "cell_type": "code",
   "execution_count": 27,
   "metadata": {},
   "outputs": [
    {
     "name": "stdout",
     "output_type": "stream",
     "text": [
      "<class 'pandas.core.frame.DataFrame'>\n",
      "Int64Index: 113066 entries, 0 to 113936\n",
      "Data columns (total 2 columns):\n",
      " #   Column                 Non-Null Count  Dtype   \n",
      "---  ------                 --------------  -----   \n",
      " 0   CreditGrade            28953 non-null  category\n",
      " 1   ProsperRating (Alpha)  83982 non-null  category\n",
      "dtypes: category(2)\n",
      "memory usage: 1.1 MB\n"
     ]
    }
   ],
   "source": [
    "prosper_load_data_clean_df[[\"CreditGrade\", \"ProsperRating (Alpha)\"]].info()"
   ]
  },
  {
   "cell_type": "markdown",
   "metadata": {},
   "source": [
    "Are there any loands without values for either of these columns?"
   ]
  },
  {
   "cell_type": "code",
   "execution_count": 28,
   "metadata": {},
   "outputs": [
    {
     "data": {
      "text/plain": [
       "131"
      ]
     },
     "execution_count": 28,
     "metadata": {},
     "output_type": "execute_result"
    }
   ],
   "source": [
    "(prosper_load_data_clean_df.CreditGrade.isna() & prosper_load_data_clean_df[\"ProsperRating (Alpha)\"].isna()).sum()"
   ]
  },
  {
   "cell_type": "markdown",
   "metadata": {},
   "source": [
    "We're to drop these rows as we think these variables are essential for our analysis."
   ]
  },
  {
   "cell_type": "code",
   "execution_count": 29,
   "metadata": {},
   "outputs": [],
   "source": [
    "prosper_load_data_clean_df = prosper_load_data_clean_df[\n",
    "   (~prosper_load_data_clean_df.CreditGrade.isna()) | (~prosper_load_data_clean_df[\"ProsperRating (Alpha)\"].isna())\n",
    "]"
   ]
  },
  {
   "cell_type": "code",
   "execution_count": 30,
   "metadata": {},
   "outputs": [
    {
     "data": {
      "text/plain": [
       "0"
      ]
     },
     "execution_count": 30,
     "metadata": {},
     "output_type": "execute_result"
    }
   ],
   "source": [
    "(prosper_load_data_clean_df.CreditGrade.isna() & prosper_load_data_clean_df[\"ProsperRating (Alpha)\"].isna()).sum()"
   ]
  },
  {
   "cell_type": "markdown",
   "metadata": {},
   "source": [
    "#### ``Term``"
   ]
  },
  {
   "cell_type": "code",
   "execution_count": 31,
   "metadata": {},
   "outputs": [
    {
     "data": {
      "text/plain": [
       "3"
      ]
     },
     "execution_count": 31,
     "metadata": {},
     "output_type": "execute_result"
    }
   ],
   "source": [
    "prosper_load_data_clean_df.Term.nunique()"
   ]
  },
  {
   "cell_type": "code",
   "execution_count": 32,
   "metadata": {},
   "outputs": [
    {
     "data": {
      "text/plain": [
       "36    87094\n",
       "60    24228\n",
       "12     1613\n",
       "Name: Term, dtype: int64"
      ]
     },
     "execution_count": 32,
     "metadata": {},
     "output_type": "execute_result"
    }
   ],
   "source": [
    "prosper_load_data_clean_df.Term.value_counts()"
   ]
  },
  {
   "cell_type": "markdown",
   "metadata": {},
   "source": [
    "Given that we're only seeing three possible values for the ``Term`` column, we could be tempted to convert it to a categorical type, but since the documentation clearly states that these are to be interpreted as months, we shouldn't convert it."
   ]
  },
  {
   "cell_type": "code",
   "execution_count": 33,
   "metadata": {},
   "outputs": [
    {
     "data": {
      "text/plain": [
       "0"
      ]
     },
     "execution_count": 33,
     "metadata": {},
     "output_type": "execute_result"
    }
   ],
   "source": [
    "prosper_load_data_clean_df.Term.isna().sum()"
   ]
  },
  {
   "cell_type": "markdown",
   "metadata": {},
   "source": [
    "There are no loans without a ``Term`` value."
   ]
  },
  {
   "cell_type": "markdown",
   "metadata": {},
   "source": [
    "#### ``LoanStatus``"
   ]
  },
  {
   "cell_type": "code",
   "execution_count": 34,
   "metadata": {},
   "outputs": [
    {
     "data": {
      "text/plain": [
       "12"
      ]
     },
     "execution_count": 34,
     "metadata": {},
     "output_type": "execute_result"
    }
   ],
   "source": [
    "prosper_load_data_clean_df.LoanStatus.nunique()"
   ]
  },
  {
   "cell_type": "code",
   "execution_count": 35,
   "metadata": {},
   "outputs": [
    {
     "data": {
      "text/plain": [
       "Current                   55730\n",
       "Completed                 37939\n",
       "Chargedoff                11986\n",
       "Defaulted                  5015\n",
       "Past Due (1-15 days)        800\n",
       "Past Due (31-60 days)       361\n",
       "Past Due (61-90 days)       311\n",
       "Past Due (91-120 days)      304\n",
       "Past Due (16-30 days)       265\n",
       "FinalPaymentInProgress      203\n",
       "Past Due (>120 days)         16\n",
       "Cancelled                     5\n",
       "Name: LoanStatus, dtype: int64"
      ]
     },
     "execution_count": 35,
     "metadata": {},
     "output_type": "execute_result"
    }
   ],
   "source": [
    "prosper_load_data_clean_df.LoanStatus.value_counts()"
   ]
  },
  {
   "cell_type": "markdown",
   "metadata": {},
   "source": [
    "Are there any loans without a ``LoanStatus`` value?"
   ]
  },
  {
   "cell_type": "code",
   "execution_count": 36,
   "metadata": {},
   "outputs": [
    {
     "data": {
      "text/plain": [
       "0"
      ]
     },
     "execution_count": 36,
     "metadata": {},
     "output_type": "execute_result"
    }
   ],
   "source": [
    "prosper_load_data_clean_df.LoanStatus.isna().sum()"
   ]
  },
  {
   "cell_type": "markdown",
   "metadata": {},
   "source": [
    "According to the documentation, this column violates the Tidy Data principle of one variable per column is it contains both the load status and the delinquency bucket:\n",
    "\n",
    "> The current status of the loan: Cancelled, Chargedoff, Completed, Current, Defaulted, FinalPaymentInProgress, PastDue. The PastDue status will be accompanied by a delinquency bucket.\n",
    "\n",
    "We're going to convert ``LoanStatus`` to a categorical type and move the delinquency bucket into its own categorical column named ``DelinquencyBucket``."
   ]
  },
  {
   "cell_type": "code",
   "execution_count": 37,
   "metadata": {},
   "outputs": [
    {
     "data": {
      "text/plain": [
       "1-15      800\n",
       "31-60     361\n",
       "61-90     311\n",
       "91-120    304\n",
       "16-30     265\n",
       ">120       16\n",
       "dtype: int64"
      ]
     },
     "execution_count": 37,
     "metadata": {},
     "output_type": "execute_result"
    }
   ],
   "source": [
    "(prosper_load_data_clean_df[prosper_load_data_clean_df.LoanStatus.str.match(r\"^Past Due.*$\")]).LoanStatus.str.extract(r\"^Past Due \\((.*) days\\)$\").value_counts()"
   ]
  },
  {
   "cell_type": "code",
   "execution_count": 38,
   "metadata": {},
   "outputs": [],
   "source": [
    "prosper_load_data_clean_df[\"DelinquencyBucket\"] = (\n",
    "    prosper_load_data_clean_df[prosper_load_data_clean_df.LoanStatus.str.match(r\"^Past Due.*\")]\n",
    ").LoanStatus.str.extract(r\"^Past Due \\((.*) days\\)$\")"
   ]
  },
  {
   "cell_type": "code",
   "execution_count": 39,
   "metadata": {},
   "outputs": [],
   "source": [
    "prosper_load_data_clean_df[\"DelinquencyBucket\"] = prosper_load_data_clean_df.DelinquencyBucket.astype(\n",
    "    pd.CategoricalDtype(ordered=True, categories=[\"1-15\", \"16-30\", \"31-60\", \"61-90\", \"91-120\", \">120\"])\n",
    ")"
   ]
  },
  {
   "cell_type": "code",
   "execution_count": 40,
   "metadata": {},
   "outputs": [
    {
     "name": "stdout",
     "output_type": "stream",
     "text": [
      "<class 'pandas.core.series.Series'>\n",
      "Int64Index: 112935 entries, 0 to 113936\n",
      "Series name: DelinquencyBucket\n",
      "Non-Null Count  Dtype   \n",
      "--------------  -----   \n",
      "2057 non-null   category\n",
      "dtypes: category(1)\n",
      "memory usage: 992.8 KB\n"
     ]
    }
   ],
   "source": [
    "prosper_load_data_clean_df.DelinquencyBucket.info()"
   ]
  },
  {
   "cell_type": "markdown",
   "metadata": {},
   "source": [
    "Now we can remove the delinquency bucket info from the past due loans."
   ]
  },
  {
   "cell_type": "code",
   "execution_count": 41,
   "metadata": {},
   "outputs": [],
   "source": [
    "prosper_load_data_clean_df[\"LoanStatus\"] = prosper_load_data_clean_df.LoanStatus.str.extract(r\"^(Current|Completed|Chargedoff|Defaulted|Past Due|FinalPaymentInProgress|Cancelled).*\")"
   ]
  },
  {
   "cell_type": "code",
   "execution_count": 42,
   "metadata": {},
   "outputs": [
    {
     "data": {
      "text/plain": [
       "Current                   55730\n",
       "Completed                 37939\n",
       "Chargedoff                11986\n",
       "Defaulted                  5015\n",
       "Past Due                   2057\n",
       "FinalPaymentInProgress      203\n",
       "Cancelled                     5\n",
       "Name: LoanStatus, dtype: int64"
      ]
     },
     "execution_count": 42,
     "metadata": {},
     "output_type": "execute_result"
    }
   ],
   "source": [
    "prosper_load_data_clean_df[\"LoanStatus\"].value_counts()"
   ]
  },
  {
   "cell_type": "markdown",
   "metadata": {},
   "source": [
    "Notice that the value counts match those shown above. Now we can safely convert the column to a nominal categorical type."
   ]
  },
  {
   "cell_type": "code",
   "execution_count": 43,
   "metadata": {},
   "outputs": [],
   "source": [
    "prosper_load_data_clean_df[\"LoanStatus\"] = prosper_load_data_clean_df.LoanStatus.astype(\n",
    "    pd.CategoricalDtype(ordered=False, categories=[\"Current\", \"Completed\", \"Chargedoff\", \"Defaulted\", \"FinalPaymentInProgress\", \"Past Due\", \"Cancelled\"])\n",
    ")"
   ]
  },
  {
   "cell_type": "code",
   "execution_count": 44,
   "metadata": {},
   "outputs": [
    {
     "name": "stdout",
     "output_type": "stream",
     "text": [
      "<class 'pandas.core.series.Series'>\n",
      "Int64Index: 112935 entries, 0 to 113936\n",
      "Series name: LoanStatus\n",
      "Non-Null Count   Dtype   \n",
      "--------------   -----   \n",
      "112935 non-null  category\n",
      "dtypes: category(1)\n",
      "memory usage: 992.9 KB\n"
     ]
    }
   ],
   "source": [
    "prosper_load_data_clean_df.LoanStatus.info()"
   ]
  },
  {
   "cell_type": "code",
   "execution_count": 45,
   "metadata": {},
   "outputs": [
    {
     "data": {
      "text/plain": [
       "0"
      ]
     },
     "execution_count": 45,
     "metadata": {},
     "output_type": "execute_result"
    }
   ],
   "source": [
    "prosper_load_data_clean_df.LoanStatus.isna().sum()"
   ]
  },
  {
   "cell_type": "markdown",
   "metadata": {},
   "source": [
    "#### ``BorrowerAPR``, ``BorrowerRate``"
   ]
  },
  {
   "cell_type": "markdown",
   "metadata": {},
   "source": [
    "According to the data dictionary, ``BorrowerAPR`` is the Borrower's Annual Percentage Rate (APR) for the loan.\n",
    "while ``BorrowerRate`` is the Borrower's interest rate for this loan. According to [this article](https://www.rocketmortgage.com/learn/comparing-mortgage-options-apr-vs-interest-rate), these two variables are similar as the APR does include the interest rate, alongside any other costs. Given this, we'll drop ``BorrowerRate`` from our analysis and focus solely on ``BorrowerAPR``."
   ]
  },
  {
   "cell_type": "code",
   "execution_count": 46,
   "metadata": {},
   "outputs": [],
   "source": [
    "prosper_load_data_clean_df = prosper_load_data_clean_df.drop(\"BorrowerRate\", axis=1)"
   ]
  },
  {
   "cell_type": "markdown",
   "metadata": {},
   "source": [
    "We're going to drop rows without a ``BorrowerAPR`` value:"
   ]
  },
  {
   "cell_type": "code",
   "execution_count": 47,
   "metadata": {},
   "outputs": [],
   "source": [
    "prosper_load_data_clean_df = prosper_load_data_clean_df[~prosper_load_data_clean_df.BorrowerAPR.isna()]"
   ]
  },
  {
   "cell_type": "code",
   "execution_count": 48,
   "metadata": {},
   "outputs": [
    {
     "data": {
      "text/plain": [
       "count    112910.000000\n",
       "mean          0.219018\n",
       "std           0.080464\n",
       "min           0.006530\n",
       "25%           0.156290\n",
       "50%           0.209860\n",
       "75%           0.283860\n",
       "max           0.512290\n",
       "Name: BorrowerAPR, dtype: float64"
      ]
     },
     "execution_count": 48,
     "metadata": {},
     "output_type": "execute_result"
    }
   ],
   "source": [
    "prosper_load_data_clean_df.BorrowerAPR.describe()"
   ]
  },
  {
   "cell_type": "markdown",
   "metadata": {},
   "source": [
    "#### ``ListingCategory (numeric)``"
   ]
  },
  {
   "cell_type": "markdown",
   "metadata": {},
   "source": [
    "According to the dictionary, ``ListingCategory (numeric)`` is a categorial variable:\n",
    "\n",
    "> The category of the listing that the borrower selected when posting their listing: 0 - Not Available, 1 - Debt Consolidation, 2 - Home Improvement, 3 - Business, 4 - Personal Loan, 5 - Student Use, 6 - Auto, 7- Other, 8 - Baby&Adoption, 9 - Boat, 10 - Cosmetic Procedure, 11 - Engagement Ring, 12 - Green Loans, 13 - Household Expenses, 14 - Large Purchases, 15 - Medical/Dental, 16 - Motorcycle, 17 - RV, 18 - Taxes, 19 - Vacation, 20 - Wedding Loans"
   ]
  },
  {
   "cell_type": "code",
   "execution_count": 49,
   "metadata": {},
   "outputs": [
    {
     "data": {
      "text/plain": [
       "[0, 1, 2, 3, 4, 5, 6, 7, 8, 9, 10, 11, 12, 13, 14, 15, 16, 17, 18, 19, 20]"
      ]
     },
     "execution_count": 49,
     "metadata": {},
     "output_type": "execute_result"
    }
   ],
   "source": [
    "sorted(prosper_load_data_clean_df[\"ListingCategory (numeric)\"].unique())"
   ]
  },
  {
   "cell_type": "markdown",
   "metadata": {},
   "source": [
    "We're going to convert these numeric categories into their string counterparts to make it easier to perform analysis and visualizations. We'll create a new categorical typed column named ``ListingCategory``."
   ]
  },
  {
   "cell_type": "code",
   "execution_count": 50,
   "metadata": {},
   "outputs": [
    {
     "data": {
      "text/plain": [
       "{0: 'Not Available',\n",
       " 1: 'Debt Consolidation',\n",
       " 2: 'Home Improvement',\n",
       " 3: 'Business',\n",
       " 4: 'Personal Loan',\n",
       " 5: 'Student Use',\n",
       " 6: 'Auto',\n",
       " 7: 'Other',\n",
       " 8: 'Baby&Adoption',\n",
       " 9: 'Boat',\n",
       " 10: 'Cosmetic Procedure',\n",
       " 11: 'Engagement Ring',\n",
       " 12: 'Green Loans',\n",
       " 13: 'Household Expenses',\n",
       " 14: 'Large Purchases',\n",
       " 15: 'Medical/Dental',\n",
       " 16: 'Motorcycle',\n",
       " 17: 'RV',\n",
       " 18: 'Taxes',\n",
       " 19: 'Vacation',\n",
       " 20: 'Wedding Loans'}"
      ]
     },
     "execution_count": 50,
     "metadata": {},
     "output_type": "execute_result"
    }
   ],
   "source": [
    "listing_categories = [\n",
    "    \"Not Available\",       # 0\n",
    "    \"Debt Consolidation\",  # 1\n",
    "    \"Home Improvement\",    # 2\n",
    "    \"Business\",            # 3\n",
    "    \"Personal Loan\",       # 4\n",
    "    \"Student Use\",         # 5\n",
    "    \"Auto\",                # 6\n",
    "    \"Other\",               # 7\n",
    "    \"Baby&Adoption\",       # 8\n",
    "    \"Boat\",                # 9\n",
    "    \"Cosmetic Procedure\",  # 10\n",
    "    \"Engagement Ring\",     # 11\n",
    "    \"Green Loans\",         # 12\n",
    "    \"Household Expenses\",  # 13\n",
    "    \"Large Purchases\",     # 14\n",
    "    \"Medical/Dental\",      # 15\n",
    "    \"Motorcycle\",          # 16\n",
    "    \"RV\",                  # 17\n",
    "    \"Taxes\",               # 18\n",
    "    \"Vacation\",            # 19\n",
    "    \"Wedding Loans\"        # 20\n",
    "]\n",
    "\n",
    "listing_category_value_map = dict(enumerate(listing_categories))\n",
    "listing_category_value_map"
   ]
  },
  {
   "cell_type": "code",
   "execution_count": 51,
   "metadata": {},
   "outputs": [],
   "source": [
    "prosper_load_data_clean_df[\"ListingCategory\"] = prosper_load_data_clean_df[\"ListingCategory (numeric)\"].apply(\n",
    "    lambda v: listing_category_value_map[v]\n",
    ")"
   ]
  },
  {
   "cell_type": "code",
   "execution_count": 52,
   "metadata": {},
   "outputs": [],
   "source": [
    "prosper_load_data_clean_df[\"ListingCategory\"] = prosper_load_data_clean_df.ListingCategory.astype(\n",
    "    pd.CategoricalDtype(ordered=False, categories=listing_categories)\n",
    ")"
   ]
  },
  {
   "cell_type": "code",
   "execution_count": 53,
   "metadata": {},
   "outputs": [
    {
     "name": "stdout",
     "output_type": "stream",
     "text": [
      "<class 'pandas.core.series.Series'>\n",
      "Int64Index: 112910 entries, 0 to 113936\n",
      "Series name: ListingCategory\n",
      "Non-Null Count   Dtype   \n",
      "--------------   -----   \n",
      "112910 non-null  category\n",
      "dtypes: category(1)\n",
      "memory usage: 993.1 KB\n"
     ]
    }
   ],
   "source": [
    "prosper_load_data_clean_df.ListingCategory.info()"
   ]
  },
  {
   "cell_type": "markdown",
   "metadata": {},
   "source": [
    "#### ``Occupation``"
   ]
  },
  {
   "cell_type": "code",
   "execution_count": 54,
   "metadata": {},
   "outputs": [
    {
     "data": {
      "text/plain": [
       "67"
      ]
     },
     "execution_count": 54,
     "metadata": {},
     "output_type": "execute_result"
    }
   ],
   "source": [
    "prosper_load_data_clean_df.Occupation.nunique()"
   ]
  },
  {
   "cell_type": "code",
   "execution_count": 55,
   "metadata": {},
   "outputs": [
    {
     "data": {
      "text/plain": [
       "Other                          28392\n",
       "Professional                   13508\n",
       "Computer Programmer             4433\n",
       "Executive                       4276\n",
       "Teacher                         3724\n",
       "                               ...  \n",
       "Dentist                           67\n",
       "Student - College Freshman        41\n",
       "Student - Community College       28\n",
       "Judge                             22\n",
       "Student - Technical School        16\n",
       "Name: Occupation, Length: 67, dtype: int64"
      ]
     },
     "execution_count": 55,
     "metadata": {},
     "output_type": "execute_result"
    }
   ],
   "source": [
    "prosper_load_data_clean_df.Occupation.value_counts()"
   ]
  },
  {
   "cell_type": "code",
   "execution_count": 56,
   "metadata": {},
   "outputs": [
    {
     "data": {
      "text/plain": [
       "3504"
      ]
     },
     "execution_count": 56,
     "metadata": {},
     "output_type": "execute_result"
    }
   ],
   "source": [
    "prosper_load_data_clean_df.Occupation.isna().sum()  # Has missing values"
   ]
  },
  {
   "cell_type": "markdown",
   "metadata": {},
   "source": [
    "``Ocupation`` is a categorical variable and has to be converted as such, but given the number of categories, we'll have to be careful when presenting charts that includes it."
   ]
  },
  {
   "cell_type": "code",
   "execution_count": 57,
   "metadata": {},
   "outputs": [],
   "source": [
    "prosper_load_data_clean_df[\"Occupation\"] = prosper_load_data_clean_df.Occupation.astype(\n",
    "    pd.CategoricalDtype(\n",
    "        ordered=False,\n",
    "        categories=sorted(prosper_load_data_clean_df.Occupation.dropna().unique())  # Sorted alphabetically\n",
    "    )\n",
    ")"
   ]
  },
  {
   "cell_type": "markdown",
   "metadata": {},
   "source": [
    "#### ``EmploymentStatus``, ``EmploymentStatusDuration``"
   ]
  },
  {
   "cell_type": "code",
   "execution_count": 58,
   "metadata": {},
   "outputs": [
    {
     "data": {
      "text/plain": [
       "array(['Self-employed', 'Employed', 'Not available', 'Full-time', 'Other',\n",
       "       nan, 'Not employed', 'Part-time', 'Retired'], dtype=object)"
      ]
     },
     "execution_count": 58,
     "metadata": {},
     "output_type": "execute_result"
    }
   ],
   "source": [
    "prosper_load_data_clean_df.EmploymentStatus.unique()"
   ]
  },
  {
   "cell_type": "code",
   "execution_count": 59,
   "metadata": {},
   "outputs": [
    {
     "data": {
      "text/plain": [
       "2230"
      ]
     },
     "execution_count": 59,
     "metadata": {},
     "output_type": "execute_result"
    }
   ],
   "source": [
    "prosper_load_data_clean_df.EmploymentStatus.isna().sum()  # Has missing values"
   ]
  },
  {
   "cell_type": "markdown",
   "metadata": {},
   "source": [
    "Once again, we'll convert this column into a categorical type."
   ]
  },
  {
   "cell_type": "code",
   "execution_count": 60,
   "metadata": {},
   "outputs": [],
   "source": [
    "prosper_load_data_clean_df[\"EmploymentStatus\"] = prosper_load_data_clean_df.EmploymentStatus.astype(\n",
    "    pd.CategoricalDtype(\n",
    "        ordered=False,\n",
    "        categories=sorted(prosper_load_data_clean_df.EmploymentStatus.dropna().unique())  # Sorted alphabetically\n",
    "    )\n",
    ")"
   ]
  },
  {
   "cell_type": "markdown",
   "metadata": {},
   "source": [
    "Since ``EmploymentStatusDuration`` is expressed in number of months, we'll convert the column to ``Int64``."
   ]
  },
  {
   "cell_type": "code",
   "execution_count": 61,
   "metadata": {},
   "outputs": [],
   "source": [
    "prosper_load_data_clean_df[\"EmploymentStatusDuration\"] = prosper_load_data_clean_df.EmploymentStatusDuration.astype(\"Int64\")"
   ]
  },
  {
   "cell_type": "code",
   "execution_count": 62,
   "metadata": {},
   "outputs": [
    {
     "name": "stdout",
     "output_type": "stream",
     "text": [
      "<class 'pandas.core.series.Series'>\n",
      "Int64Index: 112910 entries, 0 to 113936\n",
      "Series name: EmploymentStatusDuration\n",
      "Non-Null Count   Dtype\n",
      "--------------   -----\n",
      "105310 non-null  Int64\n",
      "dtypes: Int64(1)\n",
      "memory usage: 1.8 MB\n"
     ]
    }
   ],
   "source": [
    "prosper_load_data_clean_df.EmploymentStatusDuration.info()"
   ]
  },
  {
   "cell_type": "markdown",
   "metadata": {},
   "source": [
    "#### ``IsBorrowerHomeowner``"
   ]
  },
  {
   "cell_type": "code",
   "execution_count": 63,
   "metadata": {},
   "outputs": [
    {
     "data": {
      "text/plain": [
       "2"
      ]
     },
     "execution_count": 63,
     "metadata": {},
     "output_type": "execute_result"
    }
   ],
   "source": [
    "prosper_load_data_clean_df.IsBorrowerHomeowner.nunique()"
   ]
  },
  {
   "cell_type": "code",
   "execution_count": 64,
   "metadata": {},
   "outputs": [
    {
     "data": {
      "text/plain": [
       "True     56987\n",
       "False    55923\n",
       "Name: IsBorrowerHomeowner, dtype: int64"
      ]
     },
     "execution_count": 64,
     "metadata": {},
     "output_type": "execute_result"
    }
   ],
   "source": [
    "prosper_load_data_clean_df.IsBorrowerHomeowner.value_counts()"
   ]
  },
  {
   "cell_type": "code",
   "execution_count": 65,
   "metadata": {},
   "outputs": [
    {
     "data": {
      "text/plain": [
       "0"
      ]
     },
     "execution_count": 65,
     "metadata": {},
     "output_type": "execute_result"
    }
   ],
   "source": [
    "prosper_load_data_clean_df.IsBorrowerHomeowner.isna().sum()"
   ]
  },
  {
   "cell_type": "markdown",
   "metadata": {},
   "source": [
    "Since this is clearly a boolean column without any missing values, we'll convert it accordingly."
   ]
  },
  {
   "cell_type": "code",
   "execution_count": 66,
   "metadata": {},
   "outputs": [],
   "source": [
    "prosper_load_data_clean_df[\"IsBorrowerHomeowner\"] = prosper_load_data_clean_df.IsBorrowerHomeowner.astype(\"bool\")"
   ]
  },
  {
   "cell_type": "code",
   "execution_count": 67,
   "metadata": {},
   "outputs": [
    {
     "name": "stdout",
     "output_type": "stream",
     "text": [
      "<class 'pandas.core.series.Series'>\n",
      "Int64Index: 112910 entries, 0 to 113936\n",
      "Series name: IsBorrowerHomeowner\n",
      "Non-Null Count   Dtype\n",
      "--------------   -----\n",
      "112910 non-null  bool \n",
      "dtypes: bool(1)\n",
      "memory usage: 992.4 KB\n"
     ]
    }
   ],
   "source": [
    "prosper_load_data_clean_df.IsBorrowerHomeowner.info()"
   ]
  },
  {
   "cell_type": "markdown",
   "metadata": {},
   "source": [
    "#### ``DebtToIncomeRatio``"
   ]
  },
  {
   "cell_type": "code",
   "execution_count": 68,
   "metadata": {},
   "outputs": [
    {
     "data": {
      "text/plain": [
       "3357       NaN\n",
       "16997      NaN\n",
       "5565      0.19\n",
       "112528    0.37\n",
       "59663     0.09\n",
       "Name: DebtToIncomeRatio, dtype: float64"
      ]
     },
     "execution_count": 68,
     "metadata": {},
     "output_type": "execute_result"
    }
   ],
   "source": [
    "prosper_load_data_clean_df.DebtToIncomeRatio.sample(5)"
   ]
  },
  {
   "cell_type": "code",
   "execution_count": 69,
   "metadata": {},
   "outputs": [
    {
     "data": {
      "text/plain": [
       "count    104449.000000\n",
       "mean          0.276109\n",
       "std           0.553848\n",
       "min           0.000000\n",
       "25%           0.140000\n",
       "50%           0.220000\n",
       "75%           0.320000\n",
       "max          10.010000\n",
       "Name: DebtToIncomeRatio, dtype: float64"
      ]
     },
     "execution_count": 69,
     "metadata": {},
     "output_type": "execute_result"
    }
   ],
   "source": [
    "prosper_load_data_clean_df.DebtToIncomeRatio.describe()"
   ]
  },
  {
   "cell_type": "code",
   "execution_count": 70,
   "metadata": {},
   "outputs": [
    {
     "data": {
      "text/plain": [
       "8461"
      ]
     },
     "execution_count": 70,
     "metadata": {},
     "output_type": "execute_result"
    }
   ],
   "source": [
    "prosper_load_data_clean_df.DebtToIncomeRatio.isna().sum()"
   ]
  },
  {
   "cell_type": "markdown",
   "metadata": {},
   "source": [
    "There's no processing needed for this column."
   ]
  },
  {
   "cell_type": "markdown",
   "metadata": {},
   "source": [
    "#### ``IncomeRange``"
   ]
  },
  {
   "cell_type": "code",
   "execution_count": 71,
   "metadata": {},
   "outputs": [
    {
     "data": {
      "text/plain": [
       "8"
      ]
     },
     "execution_count": 71,
     "metadata": {},
     "output_type": "execute_result"
    }
   ],
   "source": [
    "prosper_load_data_clean_df.IncomeRange.nunique()"
   ]
  },
  {
   "cell_type": "code",
   "execution_count": 72,
   "metadata": {},
   "outputs": [
    {
     "data": {
      "text/plain": [
       "$25,000-49,999    31900\n",
       "$50,000-74,999    30704\n",
       "$100,000+         17172\n",
       "$75,000-99,999    16763\n",
       "Not displayed      7716\n",
       "$1-24,999          7228\n",
       "Not employed        806\n",
       "$0                  621\n",
       "Name: IncomeRange, dtype: int64"
      ]
     },
     "execution_count": 72,
     "metadata": {},
     "output_type": "execute_result"
    }
   ],
   "source": [
    "prosper_load_data_clean_df.IncomeRange.value_counts()"
   ]
  },
  {
   "cell_type": "markdown",
   "metadata": {},
   "source": [
    "We certainly need to convert this column into a categorical type, but there's also the matter of a minor violation of the Tidy Data rules as this column is also representing the employment status for some rows. We've chosen to ignore this violation to simplify the analysis. Given that the number of rows with a value of ``$0`` is so low, we'll drop them from our analysis."
   ]
  },
  {
   "cell_type": "code",
   "execution_count": 73,
   "metadata": {},
   "outputs": [],
   "source": [
    "prosper_load_data_clean_df = prosper_load_data_clean_df[prosper_load_data_clean_df.IncomeRange != \"$0\"]"
   ]
  },
  {
   "cell_type": "code",
   "execution_count": 74,
   "metadata": {},
   "outputs": [],
   "source": [
    "prosper_load_data_clean_df[\"IncomeRange\"] = prosper_load_data_clean_df.IncomeRange.astype(\n",
    "    pd.CategoricalDtype(\n",
    "        ordered=True,\n",
    "        categories=[\n",
    "            \"Not employed\",\n",
    "            \"Not displayed\",\n",
    "            \"$1-24,999\",\n",
    "            \"$25,000-49,999\",\n",
    "            \"$50,000-74,999\",\n",
    "            \"$75,000-99,999\",\n",
    "            \"$100,000+\"\n",
    "        ]\n",
    "    )\n",
    ")"
   ]
  },
  {
   "cell_type": "code",
   "execution_count": 75,
   "metadata": {},
   "outputs": [
    {
     "name": "stdout",
     "output_type": "stream",
     "text": [
      "<class 'pandas.core.series.Series'>\n",
      "Int64Index: 112289 entries, 0 to 113936\n",
      "Series name: IncomeRange\n",
      "Non-Null Count   Dtype   \n",
      "--------------   -----   \n",
      "112289 non-null  category\n",
      "dtypes: category(1)\n",
      "memory usage: 987.3 KB\n"
     ]
    }
   ],
   "source": [
    "prosper_load_data_clean_df.IncomeRange.info()"
   ]
  },
  {
   "cell_type": "markdown",
   "metadata": {},
   "source": [
    "#### ``LoanOriginalAmount``"
   ]
  },
  {
   "cell_type": "code",
   "execution_count": 76,
   "metadata": {},
   "outputs": [
    {
     "data": {
      "text/plain": [
       "count    112289.000000\n",
       "mean       8325.587306\n",
       "std        6234.630717\n",
       "min        1000.000000\n",
       "25%        4000.000000\n",
       "50%        6500.000000\n",
       "75%       12000.000000\n",
       "max       35000.000000\n",
       "Name: LoanOriginalAmount, dtype: float64"
      ]
     },
     "execution_count": 76,
     "metadata": {},
     "output_type": "execute_result"
    }
   ],
   "source": [
    "prosper_load_data_clean_df.LoanOriginalAmount.describe()"
   ]
  },
  {
   "cell_type": "code",
   "execution_count": 77,
   "metadata": {},
   "outputs": [
    {
     "data": {
      "text/plain": [
       "0"
      ]
     },
     "execution_count": 77,
     "metadata": {},
     "output_type": "execute_result"
    }
   ],
   "source": [
    "prosper_load_data_clean_df.LoanOriginalAmount.isna().sum()"
   ]
  },
  {
   "cell_type": "markdown",
   "metadata": {},
   "source": [
    "Nothing needs to be done with this column."
   ]
  },
  {
   "cell_type": "markdown",
   "metadata": {},
   "source": [
    "#### ``InvestmentFromFriendsCount``, ``InvestmentFromFriendsAmount``, ``Investors``"
   ]
  },
  {
   "cell_type": "code",
   "execution_count": 78,
   "metadata": {},
   "outputs": [
    {
     "name": "stdout",
     "output_type": "stream",
     "text": [
      "<class 'pandas.core.series.Series'>\n",
      "Int64Index: 112289 entries, 0 to 113936\n",
      "Series name: InvestmentFromFriendsCount\n",
      "Non-Null Count   Dtype\n",
      "--------------   -----\n",
      "112289 non-null  int64\n",
      "dtypes: int64(1)\n",
      "memory usage: 1.7 MB\n"
     ]
    }
   ],
   "source": [
    "prosper_load_data_clean_df.InvestmentFromFriendsCount.info()"
   ]
  },
  {
   "cell_type": "code",
   "execution_count": 79,
   "metadata": {},
   "outputs": [
    {
     "data": {
      "text/plain": [
       "0"
      ]
     },
     "execution_count": 79,
     "metadata": {},
     "output_type": "execute_result"
    }
   ],
   "source": [
    "prosper_load_data_clean_df.InvestmentFromFriendsCount.isna().sum()"
   ]
  },
  {
   "cell_type": "code",
   "execution_count": 80,
   "metadata": {},
   "outputs": [
    {
     "name": "stdout",
     "output_type": "stream",
     "text": [
      "<class 'pandas.core.series.Series'>\n",
      "Int64Index: 112289 entries, 0 to 113936\n",
      "Series name: InvestmentFromFriendsAmount\n",
      "Non-Null Count   Dtype  \n",
      "--------------   -----  \n",
      "112289 non-null  float64\n",
      "dtypes: float64(1)\n",
      "memory usage: 1.7 MB\n"
     ]
    }
   ],
   "source": [
    "prosper_load_data_clean_df.InvestmentFromFriendsAmount.info()"
   ]
  },
  {
   "cell_type": "code",
   "execution_count": 81,
   "metadata": {},
   "outputs": [
    {
     "data": {
      "text/plain": [
       "count    112289.000000\n",
       "mean         15.074790\n",
       "std         271.426163\n",
       "min           0.000000\n",
       "25%           0.000000\n",
       "50%           0.000000\n",
       "75%           0.000000\n",
       "max       25000.000000\n",
       "Name: InvestmentFromFriendsAmount, dtype: float64"
      ]
     },
     "execution_count": 81,
     "metadata": {},
     "output_type": "execute_result"
    }
   ],
   "source": [
    "prosper_load_data_clean_df.InvestmentFromFriendsAmount.describe()"
   ]
  },
  {
   "cell_type": "code",
   "execution_count": 82,
   "metadata": {},
   "outputs": [
    {
     "data": {
      "text/plain": [
       "0"
      ]
     },
     "execution_count": 82,
     "metadata": {},
     "output_type": "execute_result"
    }
   ],
   "source": [
    "prosper_load_data_clean_df.InvestmentFromFriendsAmount.isna().sum()"
   ]
  },
  {
   "cell_type": "code",
   "execution_count": 83,
   "metadata": {},
   "outputs": [
    {
     "name": "stdout",
     "output_type": "stream",
     "text": [
      "<class 'pandas.core.series.Series'>\n",
      "Int64Index: 112289 entries, 0 to 113936\n",
      "Series name: Investors\n",
      "Non-Null Count   Dtype\n",
      "--------------   -----\n",
      "112289 non-null  int64\n",
      "dtypes: int64(1)\n",
      "memory usage: 1.7 MB\n"
     ]
    }
   ],
   "source": [
    "prosper_load_data_clean_df.Investors.info()"
   ]
  },
  {
   "cell_type": "code",
   "execution_count": 84,
   "metadata": {},
   "outputs": [
    {
     "data": {
      "text/plain": [
       "0"
      ]
     },
     "execution_count": 84,
     "metadata": {},
     "output_type": "execute_result"
    }
   ],
   "source": [
    "prosper_load_data_clean_df.Investors.isna().sum()"
   ]
  },
  {
   "cell_type": "markdown",
   "metadata": {},
   "source": [
    "Once again, there's nothing to be done with these columns."
   ]
  },
  {
   "cell_type": "markdown",
   "metadata": {},
   "source": [
    "#### Final steps"
   ]
  },
  {
   "cell_type": "markdown",
   "metadata": {},
   "source": [
    "The last thing to do is to drop the unnecessary columns and to save the dataframe on to a format that allows us to keep the type information so we don't have to reprocess the original dataset each time we want to perform the rest of the exploration steps."
   ]
  },
  {
   "cell_type": "code",
   "execution_count": 85,
   "metadata": {},
   "outputs": [],
   "source": [
    "prosper_load_data_clean_df = prosper_load_data_clean_df[[\n",
    "    \"ListingCreationDate\",\n",
    "    \"CreditGrade\",\n",
    "    \"Term\",\n",
    "    \"LoanStatus\",\n",
    "    \"DelinquencyBucket\",\n",
    "    \"ClosedDate\",\n",
    "    \"BorrowerAPR\",\n",
    "    \"ProsperRating (Alpha)\",\n",
    "    \"ListingCategory\",\n",
    "    \"Occupation\",\n",
    "    \"EmploymentStatus\",\n",
    "    \"EmploymentStatusDuration\",\n",
    "    \"IsBorrowerHomeowner\",\n",
    "    \"DebtToIncomeRatio\",\n",
    "    \"IncomeRange\",\n",
    "    \"LoanOriginalAmount\",\n",
    "    \"LoanOriginationDate\",\n",
    "    \"InvestmentFromFriendsCount\",\n",
    "    \"InvestmentFromFriendsAmount\",\n",
    "    \"Investors\"\n",
    "]]"
   ]
  },
  {
   "cell_type": "code",
   "execution_count": 86,
   "metadata": {},
   "outputs": [
    {
     "data": {
      "text/html": [
       "<div>\n",
       "<style scoped>\n",
       "    .dataframe tbody tr th:only-of-type {\n",
       "        vertical-align: middle;\n",
       "    }\n",
       "\n",
       "    .dataframe tbody tr th {\n",
       "        vertical-align: top;\n",
       "    }\n",
       "\n",
       "    .dataframe thead th {\n",
       "        text-align: right;\n",
       "    }\n",
       "</style>\n",
       "<table border=\"1\" class=\"dataframe\">\n",
       "  <thead>\n",
       "    <tr style=\"text-align: right;\">\n",
       "      <th></th>\n",
       "      <th>ListingCreationDate</th>\n",
       "      <th>CreditGrade</th>\n",
       "      <th>Term</th>\n",
       "      <th>LoanStatus</th>\n",
       "      <th>DelinquencyBucket</th>\n",
       "      <th>ClosedDate</th>\n",
       "      <th>BorrowerAPR</th>\n",
       "      <th>ProsperRating (Alpha)</th>\n",
       "      <th>ListingCategory</th>\n",
       "      <th>Occupation</th>\n",
       "      <th>EmploymentStatus</th>\n",
       "      <th>EmploymentStatusDuration</th>\n",
       "      <th>IsBorrowerHomeowner</th>\n",
       "      <th>DebtToIncomeRatio</th>\n",
       "      <th>IncomeRange</th>\n",
       "      <th>LoanOriginalAmount</th>\n",
       "      <th>LoanOriginationDate</th>\n",
       "      <th>InvestmentFromFriendsCount</th>\n",
       "      <th>InvestmentFromFriendsAmount</th>\n",
       "      <th>Investors</th>\n",
       "    </tr>\n",
       "  </thead>\n",
       "  <tbody>\n",
       "    <tr>\n",
       "      <th>45134</th>\n",
       "      <td>2013-01-23 09:18:37.557</td>\n",
       "      <td>NaN</td>\n",
       "      <td>60</td>\n",
       "      <td>Current</td>\n",
       "      <td>NaN</td>\n",
       "      <td>NaT</td>\n",
       "      <td>0.25102</td>\n",
       "      <td>C</td>\n",
       "      <td>Debt Consolidation</td>\n",
       "      <td>Other</td>\n",
       "      <td>Other</td>\n",
       "      <td>31</td>\n",
       "      <td>True</td>\n",
       "      <td>0.48</td>\n",
       "      <td>$25,000-49,999</td>\n",
       "      <td>15000</td>\n",
       "      <td>2013-04-04</td>\n",
       "      <td>0</td>\n",
       "      <td>0.0</td>\n",
       "      <td>239</td>\n",
       "    </tr>\n",
       "    <tr>\n",
       "      <th>74746</th>\n",
       "      <td>2014-01-27 15:53:50.580</td>\n",
       "      <td>NaN</td>\n",
       "      <td>36</td>\n",
       "      <td>Current</td>\n",
       "      <td>NaN</td>\n",
       "      <td>NaT</td>\n",
       "      <td>0.13799</td>\n",
       "      <td>A</td>\n",
       "      <td>Business</td>\n",
       "      <td>Professional</td>\n",
       "      <td>Self-employed</td>\n",
       "      <td>48</td>\n",
       "      <td>True</td>\n",
       "      <td>NaN</td>\n",
       "      <td>$50,000-74,999</td>\n",
       "      <td>15000</td>\n",
       "      <td>2014-02-11</td>\n",
       "      <td>0</td>\n",
       "      <td>0.0</td>\n",
       "      <td>285</td>\n",
       "    </tr>\n",
       "    <tr>\n",
       "      <th>41118</th>\n",
       "      <td>2013-03-06 15:29:16.600</td>\n",
       "      <td>NaN</td>\n",
       "      <td>60</td>\n",
       "      <td>Current</td>\n",
       "      <td>NaN</td>\n",
       "      <td>NaT</td>\n",
       "      <td>0.20593</td>\n",
       "      <td>B</td>\n",
       "      <td>Motorcycle</td>\n",
       "      <td>Construction</td>\n",
       "      <td>Employed</td>\n",
       "      <td>14</td>\n",
       "      <td>True</td>\n",
       "      <td>0.24</td>\n",
       "      <td>$100,000+</td>\n",
       "      <td>15000</td>\n",
       "      <td>2013-03-12</td>\n",
       "      <td>0</td>\n",
       "      <td>0.0</td>\n",
       "      <td>2</td>\n",
       "    </tr>\n",
       "    <tr>\n",
       "      <th>42590</th>\n",
       "      <td>2007-07-17 11:22:47.897</td>\n",
       "      <td>HR</td>\n",
       "      <td>36</td>\n",
       "      <td>Completed</td>\n",
       "      <td>NaN</td>\n",
       "      <td>2008-02-22</td>\n",
       "      <td>0.17445</td>\n",
       "      <td>NaN</td>\n",
       "      <td>Not Available</td>\n",
       "      <td>Food Service</td>\n",
       "      <td>Full-time</td>\n",
       "      <td>11</td>\n",
       "      <td>True</td>\n",
       "      <td>0.03</td>\n",
       "      <td>$25,000-49,999</td>\n",
       "      <td>2000</td>\n",
       "      <td>2007-07-31</td>\n",
       "      <td>1</td>\n",
       "      <td>300.0</td>\n",
       "      <td>37</td>\n",
       "    </tr>\n",
       "    <tr>\n",
       "      <th>2823</th>\n",
       "      <td>2013-03-16 16:26:09.063</td>\n",
       "      <td>NaN</td>\n",
       "      <td>60</td>\n",
       "      <td>Current</td>\n",
       "      <td>NaN</td>\n",
       "      <td>NaT</td>\n",
       "      <td>0.26877</td>\n",
       "      <td>D</td>\n",
       "      <td>Debt Consolidation</td>\n",
       "      <td>Food Service</td>\n",
       "      <td>Employed</td>\n",
       "      <td>37</td>\n",
       "      <td>False</td>\n",
       "      <td>0.37</td>\n",
       "      <td>$25,000-49,999</td>\n",
       "      <td>10000</td>\n",
       "      <td>2013-04-04</td>\n",
       "      <td>0</td>\n",
       "      <td>0.0</td>\n",
       "      <td>109</td>\n",
       "    </tr>\n",
       "  </tbody>\n",
       "</table>\n",
       "</div>"
      ],
      "text/plain": [
       "          ListingCreationDate CreditGrade  Term LoanStatus DelinquencyBucket  \\\n",
       "45134 2013-01-23 09:18:37.557         NaN    60    Current               NaN   \n",
       "74746 2014-01-27 15:53:50.580         NaN    36    Current               NaN   \n",
       "41118 2013-03-06 15:29:16.600         NaN    60    Current               NaN   \n",
       "42590 2007-07-17 11:22:47.897          HR    36  Completed               NaN   \n",
       "2823  2013-03-16 16:26:09.063         NaN    60    Current               NaN   \n",
       "\n",
       "      ClosedDate  BorrowerAPR ProsperRating (Alpha)     ListingCategory  \\\n",
       "45134        NaT      0.25102                     C  Debt Consolidation   \n",
       "74746        NaT      0.13799                     A            Business   \n",
       "41118        NaT      0.20593                     B          Motorcycle   \n",
       "42590 2008-02-22      0.17445                   NaN       Not Available   \n",
       "2823         NaT      0.26877                     D  Debt Consolidation   \n",
       "\n",
       "         Occupation EmploymentStatus  EmploymentStatusDuration  \\\n",
       "45134         Other            Other                        31   \n",
       "74746  Professional    Self-employed                        48   \n",
       "41118  Construction         Employed                        14   \n",
       "42590  Food Service        Full-time                        11   \n",
       "2823   Food Service         Employed                        37   \n",
       "\n",
       "       IsBorrowerHomeowner  DebtToIncomeRatio     IncomeRange  \\\n",
       "45134                 True               0.48  $25,000-49,999   \n",
       "74746                 True                NaN  $50,000-74,999   \n",
       "41118                 True               0.24       $100,000+   \n",
       "42590                 True               0.03  $25,000-49,999   \n",
       "2823                 False               0.37  $25,000-49,999   \n",
       "\n",
       "       LoanOriginalAmount LoanOriginationDate  InvestmentFromFriendsCount  \\\n",
       "45134               15000          2013-04-04                           0   \n",
       "74746               15000          2014-02-11                           0   \n",
       "41118               15000          2013-03-12                           0   \n",
       "42590                2000          2007-07-31                           1   \n",
       "2823                10000          2013-04-04                           0   \n",
       "\n",
       "       InvestmentFromFriendsAmount  Investors  \n",
       "45134                          0.0        239  \n",
       "74746                          0.0        285  \n",
       "41118                          0.0          2  \n",
       "42590                        300.0         37  \n",
       "2823                           0.0        109  "
      ]
     },
     "execution_count": 86,
     "metadata": {},
     "output_type": "execute_result"
    }
   ],
   "source": [
    "prosper_load_data_clean_df.sample(5)"
   ]
  },
  {
   "cell_type": "code",
   "execution_count": 87,
   "metadata": {},
   "outputs": [],
   "source": [
    "prosper_load_data_clean_pickle = Path(\"prosper_load_data_clean.pickle\")"
   ]
  },
  {
   "cell_type": "code",
   "execution_count": 88,
   "metadata": {},
   "outputs": [],
   "source": [
    "prosper_load_data_clean_df.to_pickle(prosper_load_data_clean_pickle)"
   ]
  },
  {
   "cell_type": "markdown",
   "metadata": {},
   "source": [
    "### What features in the dataset do you think will help support your investigation into your feature(s) of interest?"
   ]
  },
  {
   "cell_type": "markdown",
   "metadata": {},
   "source": [
    "After a few steps of cleanup, this is the final set of columns that will support the rest of our analysis."
   ]
  },
  {
   "cell_type": "markdown",
   "metadata": {},
   "source": [
    "* ``ListingCreationDate``\n",
    "* ``CreditGrade``\n",
    "* ``Term``\n",
    "* ``LoanStatus``\n",
    "* ``DelinquencyBucket`` <span style=\"color: blue;\">(added)</span>\n",
    "* ``ClosedDate``\n",
    "* ``BorrowerAPR``\n",
    "* ``ProsperRating (Alpha)``\n",
    "* ``ListingCategory`` <span style=\"color: blue;\">(added)</span>\n",
    "* ``Occupation``\n",
    "* ``EmploymentStatus``\n",
    "* ``EmploymentStatusDuration``\n",
    "* ``IsBorrowerHomeowner``\n",
    "* ``DebtToIncomeRatio``\n",
    "* ``IncomeRange``\n",
    "* ``LoanOriginalAmount``\n",
    "* ``LoanOriginationDate``\n",
    "* ``InvestmentFromFriendsCount``\n",
    "* ``InvestmentFromFriendsAmount``\n",
    "* ``Investors``"
   ]
  },
  {
   "cell_type": "markdown",
   "metadata": {},
   "source": [
    "As part of the wrangling process, we've added two columns:\n",
    "\n",
    "* DelinquencyBucket: Extracted from ``LoanStatus``, it contains the delinquency bucket for past due loans.\n",
    "* ListingCategory: Converted from ``ListingCategory (numeric)`` with the information from the data dictionary and the API documentation."
   ]
  },
  {
   "cell_type": "markdown",
   "metadata": {},
   "source": [
    "The list of columns/variables can be categorized as follows:"
   ]
  },
  {
   "cell_type": "markdown",
   "metadata": {},
   "source": [
    "<table>\n",
    "    <thead>\n",
    "        <tr>\n",
    "            <th>Variable</th>\n",
    "            <th colspan=2 style=\"text-align:center\">Quantitative</th>\n",
    "            <th colspan=2 style=\"text-align:center\">Categorical</th>\n",
    "        </tr>\n",
    "        <tr>\n",
    "            <th></th>\n",
    "            <th style=\"text-align:center\">Continuous</th>\n",
    "            <th style=\"text-align:center\">Discrete</th>\n",
    "            <th style=\"text-align:center\">Nominal</th>\n",
    "            <th style=\"text-align:center\">Ordinal</th>\n",
    "        </tr>\n",
    "    </thead>\n",
    "    <tbody>\n",
    "        <tr>\n",
    "            <td>ListingCreationDate</td>\n",
    "            <td style=\"text-align:center\">&#10004;</td>\n",
    "            <td style=\"text-align:center\"></td>\n",
    "            <td style=\"text-align:center\"></td>\n",
    "            <td style=\"text-align:center\"></td>\n",
    "        </tr>\n",
    "        <tr>\n",
    "            <td>CreditGrade</td>\n",
    "            <td style=\"text-align:center\"></td>\n",
    "            <td style=\"text-align:center\"></td>\n",
    "            <td style=\"text-align:center\"></td>\n",
    "            <td style=\"text-align:center\">&#10004;</td>\n",
    "        </tr>\n",
    "        <tr>\n",
    "            <td>Term</td>\n",
    "            <td style=\"text-align:center\"></td>\n",
    "            <td style=\"text-align:center\">&#10004;</td>\n",
    "            <td style=\"text-align:center\"></td>\n",
    "            <td style=\"text-align:center\"></td>\n",
    "        </tr>\n",
    "        <tr>\n",
    "            <td>LoanStatus</td>\n",
    "            <td style=\"text-align:center\"></td>\n",
    "            <td style=\"text-align:center\"></td>\n",
    "            <td style=\"text-align:center\">&#10004;</td>\n",
    "            <td style=\"text-align:center\"></td>\n",
    "        </tr>\n",
    "        <tr>\n",
    "            <td>DelinquencyBucket</td>\n",
    "            <td style=\"text-align:center\"></td>\n",
    "            <td style=\"text-align:center\"></td>\n",
    "            <td style=\"text-align:center\"></td>\n",
    "            <td style=\"text-align:center\">&#10004;</td>\n",
    "        </tr>\n",
    "        <tr>\n",
    "            <td>ClosedDate</td>\n",
    "            <td style=\"text-align:center\"></td>\n",
    "            <td style=\"text-align:center\">&#10004;</td>\n",
    "            <td style=\"text-align:center\"></td>\n",
    "            <td style=\"text-align:center\"></td>\n",
    "        </tr>\n",
    "        <tr>\n",
    "            <td>BorrowerAPR</td>\n",
    "            <td style=\"text-align:center\">&#10004;</td>\n",
    "            <td style=\"text-align:center\"></td>\n",
    "            <td style=\"text-align:center\"></td>\n",
    "            <td style=\"text-align:center\"></td>\n",
    "        </tr>\n",
    "        <tr>\n",
    "            <td>ProsperRating (Alpha)</td>\n",
    "            <td style=\"text-align:center\"></td>\n",
    "            <td style=\"text-align:center\"></td>\n",
    "            <td style=\"text-align:center\"></td>\n",
    "            <td style=\"text-align:center\">&#10004;</td>\n",
    "        </tr>\n",
    "        <tr>\n",
    "            <td>ListingCategory</td>\n",
    "            <td style=\"text-align:center\"></td>\n",
    "            <td style=\"text-align:center\"></td>\n",
    "            <td style=\"text-align:center\">&#10004;</td>\n",
    "            <td style=\"text-align:center\"></td>\n",
    "        </tr>\n",
    "        <tr>\n",
    "            <td>Occupation</td>\n",
    "            <td style=\"text-align:center\"></td>\n",
    "            <td style=\"text-align:center\"></td>\n",
    "            <td style=\"text-align:center\">&#10004;</td>\n",
    "            <td style=\"text-align:center\"></td>\n",
    "        </tr>\n",
    "        <tr>\n",
    "            <td>EmploymentStatus</td>\n",
    "            <td style=\"text-align:center\"></td>\n",
    "            <td style=\"text-align:center\"></td>\n",
    "            <td style=\"text-align:center\">&#10004;</td>\n",
    "            <td style=\"text-align:center\"></td>\n",
    "        </tr>\n",
    "        <tr>\n",
    "            <td>EmploymentStatusDuration</td>\n",
    "            <td style=\"text-align:center\"></td>\n",
    "            <td style=\"text-align:center\">&#10004;</td>\n",
    "            <td style=\"text-align:center\"></td>\n",
    "            <td style=\"text-align:center\"></td>\n",
    "        </tr>\n",
    "        <tr>\n",
    "            <td>IsBorrowerHomeowner</td>\n",
    "            <td style=\"text-align:center\"></td>\n",
    "            <td style=\"text-align:center\"></td>\n",
    "            <td style=\"text-align:center\">&#10004;</td>\n",
    "            <td style=\"text-align:center\"></td>\n",
    "        </tr>\n",
    "        <tr>\n",
    "            <td>DebtToIncomeRatio</td>\n",
    "            <td style=\"text-align:center\">&#10004;</td>\n",
    "            <td style=\"text-align:center\"></td>\n",
    "            <td style=\"text-align:center\"></td>\n",
    "            <td style=\"text-align:center\"></td>\n",
    "        </tr>\n",
    "        <tr>\n",
    "            <td>IncomeRange</td>\n",
    "            <td style=\"text-align:center\"></td>\n",
    "            <td style=\"text-align:center\"></td>\n",
    "            <td style=\"text-align:center\"></td>\n",
    "            <td style=\"text-align:center\">&#10004;</td>\n",
    "        </tr>\n",
    "        <tr>\n",
    "            <td>LoanOriginalAmount</td>\n",
    "            <td style=\"text-align:center\">&#10004;</td>\n",
    "            <td style=\"text-align:center\"></td>\n",
    "            <td style=\"text-align:center\"></td>\n",
    "            <td style=\"text-align:center\"></td>\n",
    "        </tr>\n",
    "        <tr>\n",
    "            <td>LoanOriginationDate</td>\n",
    "            <td style=\"text-align:center\"></td>\n",
    "            <td style=\"text-align:center\">&#10004;</td>\n",
    "            <td style=\"text-align:center\"></td>\n",
    "            <td style=\"text-align:center\"></td>\n",
    "        </tr>\n",
    "        <tr>\n",
    "            <td>InvestmentFromFriendsCount</td>\n",
    "            <td style=\"text-align:center\"></td>\n",
    "            <td style=\"text-align:center\">&#10004;</td>\n",
    "            <td style=\"text-align:center\"></td>\n",
    "            <td style=\"text-align:center\"></td>\n",
    "        </tr>\n",
    "        <tr>\n",
    "            <td>InvestmentFromFriendsAmount</td>\n",
    "            <td style=\"text-align:center\">&#10004;</td>\n",
    "            <td style=\"text-align:center\"></td>\n",
    "            <td style=\"text-align:center\"></td>\n",
    "            <td style=\"text-align:center\"></td>\n",
    "        </tr>\n",
    "        <tr>\n",
    "            <td>Investors</td>\n",
    "            <td style=\"text-align:center\"></td>\n",
    "            <td style=\"text-align:center\">&#10004;</td>\n",
    "            <td style=\"text-align:center\"></td>\n",
    "            <td style=\"text-align:center\"></td>\n",
    "        </tr>\n",
    "    </tbody>\n",
    "</table>"
   ]
  },
  {
   "cell_type": "markdown",
   "metadata": {},
   "source": [
    "With this information in mind, we can begin our exploration."
   ]
  },
  {
   "cell_type": "markdown",
   "metadata": {},
   "source": [
    "## Univariate Exploration\n",
    "\n",
    "> In this section, investigate distributions of individual variables. If\n",
    "you see unusual points or outliers, take a deeper look to clean things up\n",
    "and prepare yourself to look at relationships between variables.\n",
    "\n",
    "\n",
    "> **Rubric Tip**: The project (Parts I alone) should have at least 15 visualizations distributed over univariate, bivariate, and multivariate plots to explore many relationships in the data set.  Use reasoning to justify the flow of the exploration.\n",
    "\n",
    "\n",
    "\n",
    ">**Rubric Tip**: Use the \"Question-Visualization-Observations\" framework  throughout the exploration. This framework involves **asking a question from the data, creating a visualization to find answers, and then recording observations after each visualisation.** \n"
   ]
  },
  {
   "cell_type": "code",
   "execution_count": null,
   "metadata": {},
   "outputs": [],
   "source": []
  },
  {
   "cell_type": "markdown",
   "metadata": {},
   "source": [
    "\n",
    "\n",
    ">**Rubric Tip**: Visualizations should depict the data appropriately so that the plots are easily interpretable. You should choose an appropriate plot type, data encodings, and formatting as needed. The formatting may include setting/adding the title, labels, legend, and comments. Also, do not overplot or incorrectly plot ordinal data."
   ]
  },
  {
   "cell_type": "code",
   "execution_count": null,
   "metadata": {},
   "outputs": [],
   "source": []
  },
  {
   "cell_type": "markdown",
   "metadata": {},
   "source": [
    "### Discuss the distribution(s) of your variable(s) of interest. Were there any unusual points? Did you need to perform any transformations?\n",
    "\n",
    "> Your answer here!\n",
    "\n",
    "### Of the features you investigated, were there any unusual distributions? Did you perform any operations on the data to tidy, adjust, or change the form of the data? If so, why did you do this?\n",
    "\n",
    "> Your answer here!"
   ]
  },
  {
   "cell_type": "markdown",
   "metadata": {},
   "source": [
    "## Bivariate Exploration\n",
    "\n",
    "> In this section, investigate relationships between pairs of variables in your\n",
    "data. Make sure the variables that you cover here have been introduced in some\n",
    "fashion in the previous section (univariate exploration)."
   ]
  },
  {
   "cell_type": "code",
   "execution_count": null,
   "metadata": {},
   "outputs": [],
   "source": []
  },
  {
   "cell_type": "markdown",
   "metadata": {},
   "source": [
    "### Talk about some of the relationships you observed in this part of the investigation. How did the feature(s) of interest vary with other features in the dataset?\n",
    "\n",
    "> Your answer here!\n",
    "\n",
    "### Did you observe any interesting relationships between the other features (not the main feature(s) of interest)?\n",
    "\n",
    "> Your answer here!"
   ]
  },
  {
   "cell_type": "markdown",
   "metadata": {},
   "source": [
    "## Multivariate Exploration\n",
    "\n",
    "> Create plots of three or more variables to investigate your data even\n",
    "further. Make sure that your investigations are justified, and follow from\n",
    "your work in the previous sections."
   ]
  },
  {
   "cell_type": "code",
   "execution_count": null,
   "metadata": {},
   "outputs": [],
   "source": []
  },
  {
   "cell_type": "markdown",
   "metadata": {},
   "source": [
    "### Talk about some of the relationships you observed in this part of the investigation. Were there features that strengthened each other in terms of looking at your feature(s) of interest?\n",
    "\n",
    "> Your answer here!\n",
    "\n",
    "### Were there any interesting or surprising interactions between features?\n",
    "\n",
    "> Your answer here!"
   ]
  },
  {
   "cell_type": "markdown",
   "metadata": {},
   "source": [
    "## Conclusions\n",
    ">You can write a summary of the main findings and reflect on the steps taken during the data exploration.\n"
   ]
  },
  {
   "cell_type": "markdown",
   "metadata": {},
   "source": [
    "\n",
    "> Remove all Tips mentioned above, before you convert this notebook to PDF/HTML\n",
    "\n",
    "\n",
    "> At the end of your report, make sure that you export the notebook as an\n",
    "html file from the `File > Download as... > HTML or PDF` menu. Make sure you keep\n",
    "track of where the exported file goes, so you can put it in the same folder\n",
    "as this notebook for project submission. Also, make sure you remove all of\n",
    "the quote-formatted guide notes like this one before you finish your report!\n",
    "\n"
   ]
  },
  {
   "cell_type": "code",
   "execution_count": null,
   "metadata": {},
   "outputs": [],
   "source": []
  }
 ],
 "metadata": {
  "kernelspec": {
   "display_name": "Python 3 (ipykernel)",
   "language": "python",
   "name": "python3"
  },
  "language_info": {
   "codemirror_mode": {
    "name": "ipython",
    "version": 3
   },
   "file_extension": ".py",
   "mimetype": "text/x-python",
   "name": "python",
   "nbconvert_exporter": "python",
   "pygments_lexer": "ipython3",
   "version": "3.10.4"
  }
 },
 "nbformat": 4,
 "nbformat_minor": 2
}
